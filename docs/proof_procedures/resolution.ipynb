{
 "cells": [
  {
   "cell_type": "markdown",
   "metadata": {},
   "source": [
    "# Resolution"
   ]
  },
  {
   "cell_type": "code",
   "execution_count": 2,
   "metadata": {
    "dotnet_interactive": {
     "language": "fsharp"
    },
    "polyglot_notebook": {
     "kernelName": "fsharp"
    }
   },
   "outputs": [],
   "source": [
    "#load \"../.Initialization.fsx\"\n",
    "\n",
    "open Calculemus\n",
    "open Lib.Time\n",
    "open Resolution\n",
    "open Fol"
   ]
  },
  {
   "cell_type": "code",
   "execution_count": 3,
   "metadata": {
    "dotnet_interactive": {
     "language": "fsharp"
    },
    "polyglot_notebook": {
     "kernelName": "fsharp"
    }
   },
   "outputs": [],
   "source": [
    "let time proofProcedure fm = \n",
    "    fm |> sprint_fol_formula |> printfn \"%s\"\n",
    "    time proofProcedure fm"
   ]
  },
  {
   "cell_type": "markdown",
   "metadata": {},
   "source": [
    "## Positive resolution"
   ]
  },
  {
   "cell_type": "markdown",
   "metadata": {},
   "source": [
    "### Propositional Logic"
   ]
  },
  {
   "cell_type": "code",
   "execution_count": 3,
   "metadata": {
    "dotnet_interactive": {
     "language": "fsharp"
    },
    "polyglot_notebook": {
     "kernelName": "fsharp"
    }
   },
   "outputs": [
    {
     "name": "stdout",
     "output_type": "stream",
     "text": [
      "`p ==> q <=> ~q ==> ~p`\n",
      "CPU time (user): 0.018328\n"
     ]
    },
    {
     "data": {
      "text/plain": [
       "[]"
      ]
     },
     "metadata": {},
     "output_type": "display_data"
    }
   ],
   "source": [
    "time presolution Pelletier.p1"
   ]
  },
  {
   "cell_type": "code",
   "execution_count": 4,
   "metadata": {
    "dotnet_interactive": {
     "language": "fsharp"
    },
    "polyglot_notebook": {
     "kernelName": "fsharp"
    }
   },
   "outputs": [
    {
     "name": "stdout",
     "output_type": "stream",
     "text": [
      "`~(~p) <=> p`\n",
      "CPU time (user): 0.000049\n"
     ]
    },
    {
     "data": {
      "text/plain": [
       "[]"
      ]
     },
     "metadata": {},
     "output_type": "display_data"
    }
   ],
   "source": [
    "time presolution Pelletier.p2"
   ]
  },
  {
   "cell_type": "code",
   "execution_count": 5,
   "metadata": {
    "dotnet_interactive": {
     "language": "fsharp"
    },
    "polyglot_notebook": {
     "kernelName": "fsharp"
    }
   },
   "outputs": [
    {
     "name": "stdout",
     "output_type": "stream",
     "text": [
      "`~(p ==> q) ==> q ==> p`\n",
      "CPU time (user): 0.000143\n"
     ]
    },
    {
     "data": {
      "text/plain": [
       "[]"
      ]
     },
     "metadata": {},
     "output_type": "display_data"
    }
   ],
   "source": [
    "time presolution Pelletier.p3"
   ]
  },
  {
   "cell_type": "code",
   "execution_count": 6,
   "metadata": {
    "dotnet_interactive": {
     "language": "fsharp"
    },
    "polyglot_notebook": {
     "kernelName": "fsharp"
    }
   },
   "outputs": [
    {
     "name": "stdout",
     "output_type": "stream",
     "text": [
      "`~p ==> q <=> ~q ==> p`\n",
      "CPU time (user): 0.000544\n"
     ]
    },
    {
     "data": {
      "text/plain": [
       "[]"
      ]
     },
     "metadata": {},
     "output_type": "display_data"
    }
   ],
   "source": [
    "time presolution Pelletier.p4"
   ]
  },
  {
   "cell_type": "code",
   "execution_count": 7,
   "metadata": {
    "dotnet_interactive": {
     "language": "fsharp"
    },
    "polyglot_notebook": {
     "kernelName": "fsharp"
    }
   },
   "outputs": [
    {
     "name": "stdout",
     "output_type": "stream",
     "text": [
      "`(p \\/ q ==> p \\/ r) ==> p \\/ (q ==> r)`\n",
      "CPU time (user): 0.000099\n"
     ]
    },
    {
     "data": {
      "text/plain": [
       "[]"
      ]
     },
     "metadata": {},
     "output_type": "display_data"
    }
   ],
   "source": [
    "time presolution Pelletier.p5"
   ]
  },
  {
   "cell_type": "code",
   "execution_count": 8,
   "metadata": {
    "dotnet_interactive": {
     "language": "fsharp"
    },
    "polyglot_notebook": {
     "kernelName": "fsharp"
    }
   },
   "outputs": [
    {
     "name": "stdout",
     "output_type": "stream",
     "text": [
      "`p \\/ ~p`\n",
      "CPU time (user): 0.000035\n"
     ]
    },
    {
     "data": {
      "text/plain": [
       "[]"
      ]
     },
     "metadata": {},
     "output_type": "display_data"
    }
   ],
   "source": [
    "time presolution Pelletier.p6"
   ]
  },
  {
   "cell_type": "code",
   "execution_count": 9,
   "metadata": {
    "dotnet_interactive": {
     "language": "fsharp"
    },
    "polyglot_notebook": {
     "kernelName": "fsharp"
    }
   },
   "outputs": [
    {
     "name": "stdout",
     "output_type": "stream",
     "text": [
      "`p \\/ ~(~(~p))`\n",
      "CPU time (user): 0.000061\n"
     ]
    },
    {
     "data": {
      "text/plain": [
       "[]"
      ]
     },
     "metadata": {},
     "output_type": "display_data"
    }
   ],
   "source": [
    "time presolution Pelletier.p7"
   ]
  },
  {
   "cell_type": "code",
   "execution_count": 10,
   "metadata": {
    "dotnet_interactive": {
     "language": "fsharp"
    },
    "polyglot_notebook": {
     "kernelName": "fsharp"
    }
   },
   "outputs": [
    {
     "name": "stdout",
     "output_type": "stream",
     "text": [
      "`((p ==> q) ==> p) ==> p`\n",
      "CPU time (user): 0.000066\n"
     ]
    },
    {
     "data": {
      "text/plain": [
       "[]"
      ]
     },
     "metadata": {},
     "output_type": "display_data"
    }
   ],
   "source": [
    "time presolution Pelletier.p8"
   ]
  },
  {
   "cell_type": "code",
   "execution_count": 11,
   "metadata": {
    "dotnet_interactive": {
     "language": "fsharp"
    },
    "polyglot_notebook": {
     "kernelName": "fsharp"
    }
   },
   "outputs": [
    {
     "name": "stdout",
     "output_type": "stream",
     "text": [
      "`(p \\/ q) /\\ (~p \\/ q) /\\ (p \\/ ~q) ==> ~(~q \\/ ~q)`\n",
      "CPU time (user): 0.002974\n"
     ]
    },
    {
     "data": {
      "text/plain": [
       "[]"
      ]
     },
     "metadata": {},
     "output_type": "display_data"
    }
   ],
   "source": [
    "time presolution Pelletier.p9"
   ]
  },
  {
   "cell_type": "code",
   "execution_count": 12,
   "metadata": {
    "dotnet_interactive": {
     "language": "fsharp"
    },
    "polyglot_notebook": {
     "kernelName": "fsharp"
    }
   },
   "outputs": [
    {
     "name": "stdout",
     "output_type": "stream",
     "text": [
      "`(q ==> r) /\\ (r ==> p /\\ q) /\\ (p ==> q /\\ r) ==> (p <=> q)`\n",
      "CPU time (user): 0.000248\n"
     ]
    },
    {
     "data": {
      "text/plain": [
       "[]"
      ]
     },
     "metadata": {},
     "output_type": "display_data"
    }
   ],
   "source": [
    "time presolution Pelletier.p10"
   ]
  },
  {
   "cell_type": "code",
   "execution_count": 13,
   "metadata": {
    "dotnet_interactive": {
     "language": "fsharp"
    },
    "polyglot_notebook": {
     "kernelName": "fsharp"
    }
   },
   "outputs": [
    {
     "name": "stdout",
     "output_type": "stream",
     "text": [
      "`p <=> p`\n",
      "CPU time (user): 0.000043\n"
     ]
    },
    {
     "data": {
      "text/plain": [
       "[]"
      ]
     },
     "metadata": {},
     "output_type": "display_data"
    }
   ],
   "source": [
    "time presolution Pelletier.p11"
   ]
  },
  {
   "cell_type": "code",
   "execution_count": 14,
   "metadata": {
    "dotnet_interactive": {
     "language": "fsharp"
    },
    "polyglot_notebook": {
     "kernelName": "fsharp"
    }
   },
   "outputs": [
    {
     "name": "stdout",
     "output_type": "stream",
     "text": [
      "`((p <=> q) <=> r) <=> p <=> q <=> r`\n",
      "CPU time (user): 0.001200\n"
     ]
    },
    {
     "data": {
      "text/plain": [
       "[]"
      ]
     },
     "metadata": {},
     "output_type": "display_data"
    }
   ],
   "source": [
    "time presolution Pelletier.p12"
   ]
  },
  {
   "cell_type": "code",
   "execution_count": 15,
   "metadata": {
    "dotnet_interactive": {
     "language": "fsharp"
    },
    "polyglot_notebook": {
     "kernelName": "fsharp"
    }
   },
   "outputs": [
    {
     "name": "stdout",
     "output_type": "stream",
     "text": [
      "`p \\/ q /\\ r <=> (p \\/ q) /\\ (p \\/ r)`\n",
      "CPU time (user): 0.000136\n"
     ]
    },
    {
     "data": {
      "text/plain": [
       "[]"
      ]
     },
     "metadata": {},
     "output_type": "display_data"
    }
   ],
   "source": [
    "time presolution Pelletier.p13"
   ]
  },
  {
   "cell_type": "code",
   "execution_count": 16,
   "metadata": {
    "dotnet_interactive": {
     "language": "fsharp"
    },
    "polyglot_notebook": {
     "kernelName": "fsharp"
    }
   },
   "outputs": [
    {
     "name": "stdout",
     "output_type": "stream",
     "text": [
      "`(p <=> q) <=> (q \\/ ~p) /\\ (~q \\/ p)`\n",
      "CPU time (user): 0.000185\n"
     ]
    },
    {
     "data": {
      "text/plain": [
       "[]"
      ]
     },
     "metadata": {},
     "output_type": "display_data"
    }
   ],
   "source": [
    "time presolution Pelletier.p14"
   ]
  },
  {
   "cell_type": "code",
   "execution_count": 17,
   "metadata": {
    "dotnet_interactive": {
     "language": "fsharp"
    },
    "polyglot_notebook": {
     "kernelName": "fsharp"
    }
   },
   "outputs": [
    {
     "name": "stdout",
     "output_type": "stream",
     "text": [
      "`p ==> q <=> ~p \\/ q`\n",
      "CPU time (user): 0.000056\n"
     ]
    },
    {
     "data": {
      "text/plain": [
       "[]"
      ]
     },
     "metadata": {},
     "output_type": "display_data"
    }
   ],
   "source": [
    "time presolution Pelletier.p15"
   ]
  },
  {
   "cell_type": "code",
   "execution_count": 18,
   "metadata": {
    "dotnet_interactive": {
     "language": "fsharp"
    },
    "polyglot_notebook": {
     "kernelName": "fsharp"
    }
   },
   "outputs": [
    {
     "name": "stdout",
     "output_type": "stream",
     "text": [
      "`(p ==> q) \\/ (q ==> p)`\n",
      "CPU time (user): 0.000041\n"
     ]
    },
    {
     "data": {
      "text/plain": [
       "[]"
      ]
     },
     "metadata": {},
     "output_type": "display_data"
    }
   ],
   "source": [
    "time presolution Pelletier.p16"
   ]
  },
  {
   "cell_type": "code",
   "execution_count": 19,
   "metadata": {
    "dotnet_interactive": {
     "language": "fsharp"
    },
    "polyglot_notebook": {
     "kernelName": "fsharp"
    }
   },
   "outputs": [
    {
     "name": "stdout",
     "output_type": "stream",
     "text": [
      "`p /\\ (q ==> r) ==> s <=> (~p \\/ q \\/ s) /\\ (~p \\/ ~r \\/ s)`\n",
      "CPU time (user): 0.000190\n"
     ]
    },
    {
     "data": {
      "text/plain": [
       "[]"
      ]
     },
     "metadata": {},
     "output_type": "display_data"
    }
   ],
   "source": [
    "time presolution Pelletier.p17"
   ]
  },
  {
   "cell_type": "markdown",
   "metadata": {},
   "source": [
    "### Monadic Predicate Logic"
   ]
  },
  {
   "cell_type": "code",
   "execution_count": 20,
   "metadata": {
    "dotnet_interactive": {
     "language": "fsharp"
    },
    "polyglot_notebook": {
     "kernelName": "fsharp"
    }
   },
   "outputs": [
    {
     "name": "stdout",
     "output_type": "stream",
     "text": [
      "`exists y. forall x. P(y) ==> P(x)`\n",
      "0 used; 2 unused.\n",
      "1 used; 1 unused.\n",
      "CPU time (user): 0.041783\n"
     ]
    },
    {
     "data": {
      "text/plain": [
       "[true]"
      ]
     },
     "metadata": {},
     "output_type": "display_data"
    }
   ],
   "source": [
    "time presolution Pelletier.p18"
   ]
  },
  {
   "cell_type": "code",
   "execution_count": 21,
   "metadata": {
    "dotnet_interactive": {
     "language": "fsharp"
    },
    "polyglot_notebook": {
     "kernelName": "fsharp"
    }
   },
   "outputs": [
    {
     "name": "stdout",
     "output_type": "stream",
     "text": [
      "`exists x. forall y z. (P(y) ==> Q(z)) ==> P(x) ==> Q(x)`\n",
      "0 used; 3 unused.\n",
      "1 used; 2 unused.\n",
      "2 used; 2 unused.\n",
      "3 used; 1 unused.\n",
      "CPU time (user): 0.022602\n"
     ]
    },
    {
     "data": {
      "text/plain": [
       "[true]"
      ]
     },
     "metadata": {},
     "output_type": "display_data"
    }
   ],
   "source": [
    "time presolution Pelletier.p19"
   ]
  },
  {
   "cell_type": "code",
   "execution_count": 22,
   "metadata": {
    "dotnet_interactive": {
     "language": "fsharp"
    },
    "polyglot_notebook": {
     "kernelName": "fsharp"
    }
   },
   "outputs": [
    {
     "name": "stdout",
     "output_type": "stream",
     "text": [
      "`(forall x y. exists z. forall w. P(x) /\\ Q(y) ==> R(z) /\\ U(w)) ==> (exists x y. P(x) /\\ Q(y)) ==> (exists z. R(z))`\n",
      "0 used; 5 unused.\n",
      "1 used; 4 unused.\n",
      "2 used; 3 unused.\n",
      "3 used; 4 unused.\n",
      "4 used; 5 unused.\n",
      "5 used; 4 unused.\n",
      "6 used; 4 unused.\n",
      "7 used; 3 unused.\n",
      "8 used; 2 unused.\n",
      "9 used; 1 unused.\n",
      "CPU time (user): 0.031567\n"
     ]
    },
    {
     "data": {
      "text/plain": [
       "[true]"
      ]
     },
     "metadata": {},
     "output_type": "display_data"
    }
   ],
   "source": [
    "time presolution Pelletier.p20"
   ]
  },
  {
   "cell_type": "code",
   "execution_count": 23,
   "metadata": {
    "dotnet_interactive": {
     "language": "fsharp"
    },
    "polyglot_notebook": {
     "kernelName": "fsharp"
    }
   },
   "outputs": [
    {
     "name": "stdout",
     "output_type": "stream",
     "text": [
      "`(exists x. P ==> Q(x)) /\\ (exists x. Q(x) ==> P) ==> (exists x. P <=> Q(x))`\n",
      "0 used; 3 unused.\n",
      "1 used; 2 unused.\n",
      "2 used; 1 unused.\n",
      "3 used; 2 unused.\n",
      "0 used; 4 unused.\n",
      "1 used; 3 unused.\n",
      "2 used; 2 unused.\n",
      "3 used; 3 unused.\n",
      "4 used; 3 unused.\n",
      "5 used; 2 unused.\n",
      "0 used; 3 unused.\n",
      "1 used; 2 unused.\n",
      "2 used; 2 unused.\n",
      "3 used; 2 unused.\n",
      "CPU time (user): 0.003946\n"
     ]
    },
    {
     "data": {
      "text/plain": [
       "[true; true; true]"
      ]
     },
     "metadata": {},
     "output_type": "display_data"
    }
   ],
   "source": [
    "time presolution Pelletier.p21"
   ]
  },
  {
   "cell_type": "code",
   "execution_count": 24,
   "metadata": {
    "dotnet_interactive": {
     "language": "fsharp"
    },
    "polyglot_notebook": {
     "kernelName": "fsharp"
    }
   },
   "outputs": [
    {
     "name": "stdout",
     "output_type": "stream",
     "text": [
      "`(forall x. P <=> Q(x)) ==> (P <=> (forall x. Q(x)))`\n",
      "0 used; 3 unused.\n",
      "1 used; 2 unused.\n",
      "2 used; 2 unused.\n",
      "3 used; 1 unused.\n",
      "0 used; 3 unused.\n",
      "1 used; 2 unused.\n",
      "2 used; 2 unused.\n",
      "3 used; 1 unused.\n",
      "CPU time (user): 0.001227\n"
     ]
    },
    {
     "data": {
      "text/plain": [
       "[true; true]"
      ]
     },
     "metadata": {},
     "output_type": "display_data"
    }
   ],
   "source": [
    "time presolution Pelletier.p22"
   ]
  },
  {
   "cell_type": "code",
   "execution_count": 25,
   "metadata": {
    "dotnet_interactive": {
     "language": "fsharp"
    },
    "polyglot_notebook": {
     "kernelName": "fsharp"
    }
   },
   "outputs": [
    {
     "name": "stdout",
     "output_type": "stream",
     "text": [
      "`(forall x. P \\/ Q(x)) <=> P \\/ (forall x. Q(x))`\n",
      "0 used; 3 unused.\n",
      "1 used; 2 unused.\n",
      "2 used; 2 unused.\n",
      "3 used; 2 unused.\n",
      "0 used; 3 unused.\n",
      "1 used; 2 unused.\n",
      "2 used; 1 unused.\n",
      "CPU time (user): 0.002860\n"
     ]
    },
    {
     "data": {
      "text/plain": [
       "[true; true]"
      ]
     },
     "metadata": {},
     "output_type": "display_data"
    }
   ],
   "source": [
    "time presolution Pelletier.p23"
   ]
  },
  {
   "cell_type": "code",
   "execution_count": 26,
   "metadata": {
    "dotnet_interactive": {
     "language": "fsharp"
    },
    "polyglot_notebook": {
     "kernelName": "fsharp"
    }
   },
   "outputs": [
    {
     "name": "stdout",
     "output_type": "stream",
     "text": [
      "`~(exists x. U(x) /\\ Q(x)) /\\ (forall x. P(x) ==> Q(x) \\/ R(x)) /\\ ~(exists x. P(x) ==> (exists x. Q(x))) /\\ (forall x. Q(x) /\\ R(x) ==> U(x)) ==> (exists x. P(x) /\\ R(x))`\n",
      "0 used; 6 unused.\n",
      "1 used; 5 unused.\n",
      "2 used; 5 unused.\n",
      "3 used; 4 unused.\n",
      "4 used; 4 unused.\n",
      "5 used; 3 unused.\n",
      "6 used; 2 unused.\n",
      "7 used; 3 unused.\n",
      "8 used; 2 unused.\n",
      "CPU time (user): 0.008740\n"
     ]
    },
    {
     "data": {
      "text/plain": [
       "[true]"
      ]
     },
     "metadata": {},
     "output_type": "display_data"
    }
   ],
   "source": [
    "time presolution Pelletier.p24"
   ]
  },
  {
   "cell_type": "code",
   "execution_count": 27,
   "metadata": {
    "dotnet_interactive": {
     "language": "fsharp"
    },
    "polyglot_notebook": {
     "kernelName": "fsharp"
    }
   },
   "outputs": [
    {
     "name": "stdout",
     "output_type": "stream",
     "text": [
      "`(exists x. P(x)) /\\ (forall x. U(x) ==> ~G(x) /\\ R(x)) /\\ (forall x. P(x) ==> G(x) /\\ U(x)) /\\ ((forall x. P(x) ==> Q(x)) \\/ (exists x. Q(x) /\\ P(x))) ==> (exists x. Q(x) /\\ P(x))`\n",
      "0 used; 8 unused.\n",
      "1 used; 7 unused.\n",
      "2 used; 7 unused.\n",
      "3 used; 7 unused.\n",
      "4 used; 6 unused.\n",
      "5 used; 5 unused.\n",
      "6 used; 6 unused.\n",
      "7 used; 5 unused.\n",
      "8 used; 7 unused.\n",
      "9 used; 7 unused.\n",
      "10 used; 7 unused.\n",
      "11 used; 8 unused.\n",
      "12 used; 9 unused.\n",
      "0 used; 7 unused.\n",
      "1 used; 6 unused.\n",
      "2 used; 6 unused.\n",
      "3 used; 6 unused.\n",
      "4 used; 5 unused.\n",
      "5 used; 5 unused.\n",
      "6 used; 4 unused.\n",
      "7 used; 4 unused.\n",
      "8 used; 4 unused.\n",
      "9 used; 4 unused.\n",
      "10 used; 5 unused.\n",
      "CPU time (user): 0.028643\n"
     ]
    },
    {
     "data": {
      "text/plain": [
       "[true; true]"
      ]
     },
     "metadata": {},
     "output_type": "display_data"
    }
   ],
   "source": [
    "time presolution Pelletier.p25"
   ]
  },
  {
   "cell_type": "code",
   "execution_count": 28,
   "metadata": {
    "dotnet_interactive": {
     "language": "fsharp"
    },
    "polyglot_notebook": {
     "kernelName": "fsharp"
    }
   },
   "outputs": [
    {
     "name": "stdout",
     "output_type": "stream",
     "text": [
      "`((exists x. P(x)) <=> (exists x. Q(x))) /\\ (forall x y. P(x) /\\ Q(y) ==> (R(x) <=> U(y))) ==> ((forall x. P(x) ==> R(x)) <=> (forall x. Q(x) ==> U(x)))`\n",
      "0 used; 7 unused.\n",
      "1 used; 6 unused.\n",
      "2 used; 5 unused.\n",
      "3 used; 4 unused.\n",
      "4 used; 6 unused.\n",
      "5 used; 6 unused.\n",
      "6 used; 6 unused.\n",
      "7 used; 5 unused.\n",
      "8 used; 6 unused.\n",
      "9 used; 5 unused.\n",
      "10 used; 4 unused.\n",
      "11 used; 6 unused.\n",
      "12 used; 6 unused.\n",
      "13 used; 5 unused.\n",
      "14 used; 4 unused.\n",
      "0 used; 6 unused.\n",
      "1 used; 5 unused.\n",
      "2 used; 4 unused.\n",
      "3 used; 3 unused.\n",
      "4 used; 3 unused.\n",
      "5 used; 5 unused.\n",
      "6 used; 4 unused.\n",
      "7 used; 4 unused.\n",
      "8 used; 5 unused.\n",
      "9 used; 6 unused.\n",
      "10 used; 5 unused.\n",
      "11 used; 4 unused.\n",
      "0 used; 4 unused.\n",
      "1 used; 3 unused.\n",
      "0 used; 4 unused.\n",
      "1 used; 3 unused.\n",
      "2 used; 2 unused.\n",
      "CPU time (user): 0.061238\n"
     ]
    },
    {
     "data": {
      "text/plain": [
       "[true; true; true; true]"
      ]
     },
     "metadata": {},
     "output_type": "display_data"
    }
   ],
   "source": [
    "time presolution Pelletier.p26"
   ]
  },
  {
   "cell_type": "code",
   "execution_count": 29,
   "metadata": {
    "dotnet_interactive": {
     "language": "fsharp"
    },
    "polyglot_notebook": {
     "kernelName": "fsharp"
    }
   },
   "outputs": [
    {
     "name": "stdout",
     "output_type": "stream",
     "text": [
      "`(exists x. P(x) /\\ ~Q(x)) /\\ (forall x. P(x) ==> R(x)) /\\ (forall x. U(x) /\\ V(x) ==> P(x)) /\\ (exists x. R(x) /\\ ~Q(x)) ==> (forall x. U(x) ==> ~R(x)) ==> (forall x. U(x) ==> ~V(x))`\n",
      "0 used; 9 unused.\n",
      "1 used; 8 unused.\n",
      "2 used; 7 unused.\n",
      "3 used; 7 unused.\n",
      "4 used; 6 unused.\n",
      "5 used; 6 unused.\n",
      "6 used; 6 unused.\n",
      "7 used; 5 unused.\n",
      "8 used; 4 unused.\n",
      "9 used; 5 unused.\n",
      "10 used; 5 unused.\n",
      "11 used; 4 unused.\n",
      "12 used; 4 unused.\n",
      "13 used; 3 unused.\n",
      "14 used; 2 unused.\n",
      "15 used; 1 unused.\n",
      "CPU time (user): 0.030927\n"
     ]
    },
    {
     "data": {
      "text/plain": [
       "[true]"
      ]
     },
     "metadata": {},
     "output_type": "display_data"
    }
   ],
   "source": [
    "time presolution Pelletier.p27"
   ]
  },
  {
   "cell_type": "code",
   "execution_count": 30,
   "metadata": {
    "dotnet_interactive": {
     "language": "fsharp"
    },
    "polyglot_notebook": {
     "kernelName": "fsharp"
    }
   },
   "outputs": [
    {
     "name": "stdout",
     "output_type": "stream",
     "text": [
      "`(forall x. P(x) ==> (forall x. Q(x))) /\\ ((forall x. Q(x) \\/ R(x)) ==> (exists x. Q(x) /\\ R(x))) /\\ ((exists x. R(x)) ==> (forall x. L(x) ==> M(x))) ==> (forall x. P(x) /\\ L(x) ==> M(x))`\n",
      "0 used; 7 unused.\n",
      "1 used; 6 unused.\n",
      "2 used; 5 unused.\n",
      "3 used; 4 unused.\n",
      "4 used; 3 unused.\n",
      "5 used; 2 unused.\n",
      "6 used; 1 unused.\n",
      "0 used; 7 unused.\n",
      "1 used; 6 unused.\n",
      "2 used; 6 unused.\n",
      "3 used; 5 unused.\n",
      "4 used; 4 unused.\n",
      "5 used; 3 unused.\n",
      "6 used; 2 unused.\n",
      "7 used; 1 unused.\n",
      "0 used; 7 unused.\n",
      "1 used; 6 unused.\n",
      "2 used; 5 unused.\n",
      "3 used; 5 unused.\n",
      "4 used; 4 unused.\n",
      "5 used; 3 unused.\n",
      "6 used; 2 unused.\n",
      "7 used; 1 unused.\n",
      "0 used; 7 unused.\n",
      "1 used; 6 unused.\n",
      "2 used; 6 unused.\n",
      "3 used; 5 unused.\n",
      "4 used; 5 unused.\n",
      "5 used; 4 unused.\n",
      "6 used; 3 unused.\n",
      "7 used; 2 unused.\n",
      "CPU time (user): 0.007646\n"
     ]
    },
    {
     "data": {
      "text/plain": [
       "[true; true; true; true]"
      ]
     },
     "metadata": {},
     "output_type": "display_data"
    }
   ],
   "source": [
    "time presolution Pelletier.p28"
   ]
  },
  {
   "cell_type": "code",
   "execution_count": 31,
   "metadata": {
    "dotnet_interactive": {
     "language": "fsharp"
    },
    "polyglot_notebook": {
     "kernelName": "fsharp"
    }
   },
   "outputs": [
    {
     "name": "stdout",
     "output_type": "stream",
     "text": [
      "`(exists x. P(x)) /\\ (exists x. G(x)) ==> ((forall x. P(x) ==> H(x)) /\\ (forall x. G(x) ==> J(x)) <=> (forall x y. P(x) /\\ G(y) ==> H(x) /\\ J(y)))`\n",
      "0 used; 6 unused.\n",
      "1 used; 5 unused.\n",
      "2 used; 4 unused.\n",
      "3 used; 4 unused.\n",
      "4 used; 5 unused.\n",
      "5 used; 6 unused.\n",
      "6 used; 5 unused.\n",
      "7 used; 4 unused.\n",
      "8 used; 4 unused.\n",
      "9 used; 4 unused.\n",
      "10 used; 3 unused.\n",
      "11 used; 2 unused.\n",
      "0 used; 7 unused.\n",
      "1 used; 6 unused.\n",
      "2 used; 5 unused.\n",
      "3 used; 4 unused.\n",
      "4 used; 5 unused.\n",
      "5 used; 5 unused.\n",
      "6 used; 5 unused.\n",
      "7 used; 4 unused.\n",
      "8 used; 3 unused.\n",
      "9 used; 2 unused.\n",
      "10 used; 1 unused.\n",
      "0 used; 7 unused.\n",
      "1 used; 6 unused.\n",
      "2 used; 5 unused.\n",
      "3 used; 4 unused.\n",
      "4 used; 5 unused.\n",
      "5 used; 5 unused.\n",
      "6 used; 5 unused.\n",
      "7 used; 4 unused.\n",
      "0 used; 6 unused.\n",
      "1 used; 5 unused.\n",
      "2 used; 5 unused.\n",
      "3 used; 5 unused.\n",
      "4 used; 6 unused.\n",
      "5 used; 6 unused.\n",
      "6 used; 5 unused.\n",
      "7 used; 4 unused.\n",
      "8 used; 4 unused.\n",
      "9 used; 3 unused.\n",
      "10 used; 2 unused.\n",
      "CPU time (user): 0.055580\n"
     ]
    },
    {
     "data": {
      "text/plain": [
       "[true; true; true; true]"
      ]
     },
     "metadata": {},
     "output_type": "display_data"
    }
   ],
   "source": [
    "time presolution Pelletier.p29"
   ]
  },
  {
   "cell_type": "code",
   "execution_count": 32,
   "metadata": {
    "dotnet_interactive": {
     "language": "fsharp"
    },
    "polyglot_notebook": {
     "kernelName": "fsharp"
    }
   },
   "outputs": [
    {
     "name": "stdout",
     "output_type": "stream",
     "text": [
      "`(forall x. P(x) \\/ G(x) ==> ~H(x)) /\\ (forall x. (G(x) ==> ~U(x)) ==> P(x) /\\ H(x)) ==> (forall x. U(x))`\n",
      "0 used; 7 unused.\n",
      "1 used; 6 unused.\n",
      "2 used; 5 unused.\n",
      "3 used; 4 unused.\n",
      "4 used; 3 unused.\n",
      "5 used; 4 unused.\n",
      "6 used; 7 unused.\n",
      "7 used; 8 unused.\n",
      "8 used; 9 unused.\n",
      "9 used; 9 unused.\n",
      "10 used; 8 unused.\n",
      "CPU time (user): 0.032918\n"
     ]
    },
    {
     "data": {
      "text/plain": [
       "[true]"
      ]
     },
     "metadata": {},
     "output_type": "display_data"
    }
   ],
   "source": [
    "time presolution Pelletier.p30"
   ]
  },
  {
   "cell_type": "code",
   "execution_count": 33,
   "metadata": {
    "dotnet_interactive": {
     "language": "fsharp"
    },
    "polyglot_notebook": {
     "kernelName": "fsharp"
    }
   },
   "outputs": [
    {
     "name": "stdout",
     "output_type": "stream",
     "text": [
      "`~(exists x. P(x) /\\ (G(x) \\/ H(x))) /\\ (exists x. Q(x) /\\ P(x)) /\\ (forall x. ~H(x) ==> J(x)) ==> (exists x. Q(x) /\\ J(x))`\n",
      "0 used; 6 unused.\n",
      "1 used; 5 unused.\n",
      "2 used; 4 unused.\n",
      "3 used; 3 unused.\n",
      "4 used; 3 unused.\n",
      "5 used; 4 unused.\n",
      "6 used; 5 unused.\n",
      "7 used; 4 unused.\n",
      "8 used; 4 unused.\n",
      "9 used; 3 unused.\n",
      "10 used; 3 unused.\n",
      "11 used; 2 unused.\n",
      "CPU time (user): 0.012075\n"
     ]
    },
    {
     "data": {
      "text/plain": [
       "[true]"
      ]
     },
     "metadata": {},
     "output_type": "display_data"
    }
   ],
   "source": [
    "time presolution Pelletier.p31"
   ]
  },
  {
   "cell_type": "code",
   "execution_count": 34,
   "metadata": {
    "dotnet_interactive": {
     "language": "fsharp"
    },
    "polyglot_notebook": {
     "kernelName": "fsharp"
    }
   },
   "outputs": [
    {
     "name": "stdout",
     "output_type": "stream",
     "text": [
      "`(forall x. P(x) /\\ (G(x) \\/ H(x)) ==> Q(x)) /\\ (forall x. Q(x) /\\ H(x) ==> J(x)) /\\ (forall x. R(x) ==> H(x)) ==> (forall x. P(x) /\\ R(x) ==> J(x))`\n",
      "0 used; 7 unused.\n",
      "1 used; 6 unused.\n",
      "2 used; 5 unused.\n",
      "3 used; 4 unused.\n",
      "4 used; 4 unused.\n",
      "5 used; 4 unused.\n",
      "6 used; 4 unused.\n",
      "7 used; 3 unused.\n",
      "8 used; 2 unused.\n",
      "9 used; 1 unused.\n",
      "10 used; 2 unused.\n",
      "11 used; 2 unused.\n",
      "12 used; 1 unused.\n",
      "CPU time (user): 0.008193\n"
     ]
    },
    {
     "data": {
      "text/plain": [
       "[true]"
      ]
     },
     "metadata": {},
     "output_type": "display_data"
    }
   ],
   "source": [
    "time presolution Pelletier.p32"
   ]
  },
  {
   "cell_type": "code",
   "execution_count": 35,
   "metadata": {
    "dotnet_interactive": {
     "language": "fsharp"
    },
    "polyglot_notebook": {
     "kernelName": "fsharp"
    }
   },
   "outputs": [
    {
     "name": "stdout",
     "output_type": "stream",
     "text": [
      "`(forall x. P(a) /\\ (P(x) ==> P(b)) ==> P(c)) <=> (forall x. P(a) ==> P(x) \\/ P(c)) /\\ (P(a) ==> P(b) ==> P(c))`\n",
      "0 used; 5 unused.\n",
      "1 used; 4 unused.\n",
      "2 used; 3 unused.\n",
      "3 used; 2 unused.\n",
      "4 used; 1 unused.\n",
      "0 used; 5 unused.\n",
      "1 used; 4 unused.\n",
      "2 used; 4 unused.\n",
      "3 used; 3 unused.\n",
      "4 used; 2 unused.\n",
      "5 used; 1 unused.\n",
      "0 used; 5 unused.\n",
      "1 used; 4 unused.\n",
      "2 used; 3 unused.\n",
      "3 used; 2 unused.\n",
      "CPU time (user): 0.013482\n"
     ]
    },
    {
     "data": {
      "text/plain": [
       "[true; true; true]"
      ]
     },
     "metadata": {},
     "output_type": "display_data"
    }
   ],
   "source": [
    "time presolution Pelletier.p33"
   ]
  },
  {
   "cell_type": "code",
   "execution_count": 36,
   "metadata": {
    "dotnet_interactive": {
     "language": "fsharp"
    },
    "polyglot_notebook": {
     "kernelName": "fsharp"
    }
   },
   "outputs": [
    {
     "name": "stdout",
     "output_type": "stream",
     "text": [
      "`((exists x. forall y. P(x) <=> P(y)) <=> (exists x. Q(x)) <=> (forall y. Q(y))) <=> (exists x. forall y. Q(x) <=> Q(y)) <=> (exists x. P(x)) <=> (forall y. P(y))`\n",
      "0 used; 7 unused.\n",
      "1 used; 6 unused.\n",
      "2 used; 5 unused.\n",
      "3 used; 5 unused.\n",
      "4 used; 4 unused.\n",
      "5 used; 3 unused.\n",
      "6 used; 3 unused.\n",
      "7 used; 2 unused.\n",
      "8 used; 2 unused.\n",
      "9 used; 1 unused.\n",
      "0 used; 8 unused.\n",
      "1 used; 7 unused.\n",
      "2 used; 6 unused.\n",
      "3 used; 5 unused.\n",
      "4 used; 4 unused.\n",
      "5 used; 4 unused.\n",
      "6 used; 6 unused.\n",
      "7 used; 6 unused.\n",
      "8 used; 5 unused.\n",
      "9 used; 5 unused.\n",
      "10 used; 6 unused.\n",
      "11 used; 7 unused.\n",
      "12 used; 6 unused.\n",
      "13 used; 8 unused.\n",
      "0 used; 7 unused.\n",
      "1 used; 6 unused.\n",
      "2 used; 5 unused.\n",
      "3 used; 5 unused.\n",
      "4 used; 4 unused.\n",
      "5 used; 3 unused.\n",
      "6 used; 2 unused.\n",
      "7 used; 1 unused.\n",
      "8 used; 1 unused.\n",
      "0 used; 6 unused.\n",
      "1 used; 5 unused.\n",
      "2 used; 4 unused.\n",
      "3 used; 3 unused.\n",
      "4 used; 5 unused.\n",
      "5 used; 5 unused.\n",
      "0 used; 6 unused.\n",
      "1 used; 5 unused.\n",
      "2 used; 5 unused.\n",
      "3 used; 4 unused.\n",
      "4 used; 3 unused.\n",
      "5 used; 2 unused.\n",
      "6 used; 2 unused.\n",
      "7 used; 1 unused.\n",
      "0 used; 7 unused.\n",
      "1 used; 6 unused.\n",
      "2 used; 5 unused.\n",
      "3 used; 4 unused.\n",
      "4 used; 3 unused.\n",
      "5 used; 3 unused.\n",
      "6 used; 5 unused.\n",
      "7 used; 5 unused.\n",
      "0 used; 6 unused.\n",
      "1 used; 5 unused.\n",
      "2 used; 5 unused.\n",
      "3 used; 4 unused.\n",
      "4 used; 3 unused.\n",
      "5 used; 3 unused.\n",
      "6 used; 2 unused.\n",
      "7 used; 1 unused.\n",
      "0 used; 5 unused.\n",
      "1 used; 4 unused.\n",
      "2 used; 3 unused.\n",
      "3 used; 2 unused.\n",
      "4 used; 2 unused.\n",
      "0 used; 7 unused.\n",
      "1 used; 6 unused.\n",
      "2 used; 6 unused.\n",
      "3 used; 5 unused.\n",
      "4 used; 4 unused.\n",
      "5 used; 3 unused.\n",
      "6 used; 3 unused.\n",
      "7 used; 2 unused.\n",
      "8 used; 1 unused.\n",
      "9 used; 1 unused.\n",
      "0 used; 6 unused.\n",
      "1 used; 5 unused.\n",
      "2 used; 4 unused.\n",
      "3 used; 3 unused.\n",
      "4 used; 2 unused.\n",
      "5 used; 2 unused.\n",
      "6 used; 2 unused.\n",
      "7 used; 1 unused.\n",
      "0 used; 6 unused.\n",
      "1 used; 5 unused.\n",
      "2 used; 4 unused.\n",
      "3 used; 3 unused.\n",
      "4 used; 3 unused.\n",
      "5 used; 2 unused.\n",
      "6 used; 1 unused.\n",
      "0 used; 5 unused.\n",
      "1 used; 4 unused.\n",
      "2 used; 4 unused.\n",
      "3 used; 3 unused.\n",
      "4 used; 2 unused.\n",
      "0 used; 8 unused.\n",
      "1 used; 7 unused.\n",
      "2 used; 6 unused.\n",
      "3 used; 6 unused.\n",
      "4 used; 5 unused.\n",
      "5 used; 4 unused.\n",
      "6 used; 3 unused.\n",
      "7 used; 5 unused.\n",
      "8 used; 5 unused.\n",
      "9 used; 5 unused.\n",
      "10 used; 6 unused.\n",
      "11 used; 7 unused.\n",
      "12 used; 6 unused.\n",
      "13 used; 8 unused.\n",
      "0 used; 7 unused.\n",
      "1 used; 6 unused.\n",
      "2 used; 5 unused.\n",
      "3 used; 4 unused.\n",
      "4 used; 3 unused.\n",
      "5 used; 5 unused.\n",
      "6 used; 5 unused.\n",
      "7 used; 5 unused.\n",
      "8 used; 6 unused.\n",
      "9 used; 7 unused.\n",
      "10 used; 6 unused.\n",
      "11 used; 8 unused.\n",
      "0 used; 7 unused.\n",
      "1 used; 6 unused.\n",
      "2 used; 5 unused.\n",
      "3 used; 4 unused.\n",
      "4 used; 6 unused.\n",
      "5 used; 6 unused.\n",
      "6 used; 6 unused.\n",
      "7 used; 5 unused.\n",
      "8 used; 6 unused.\n",
      "9 used; 7 unused.\n",
      "10 used; 6 unused.\n",
      "11 used; 8 unused.\n",
      "0 used; 6 unused.\n",
      "1 used; 5 unused.\n",
      "2 used; 4 unused.\n",
      "3 used; 4 unused.\n",
      "4 used; 3 unused.\n",
      "5 used; 2 unused.\n",
      "0 used; 6 unused.\n",
      "1 used; 5 unused.\n",
      "2 used; 4 unused.\n",
      "3 used; 3 unused.\n",
      "4 used; 2 unused.\n",
      "5 used; 1 unused.\n",
      "6 used; 1 unused.\n",
      "0 used; 5 unused.\n",
      "1 used; 4 unused.\n",
      "2 used; 3 unused.\n",
      "3 used; 2 unused.\n",
      "4 used; 2 unused.\n",
      "0 used; 7 unused.\n",
      "1 used; 6 unused.\n",
      "2 used; 5 unused.\n",
      "3 used; 4 unused.\n",
      "4 used; 4 unused.\n",
      "5 used; 3 unused.\n",
      "6 used; 5 unused.\n",
      "7 used; 5 unused.\n",
      "0 used; 6 unused.\n",
      "1 used; 5 unused.\n",
      "2 used; 4 unused.\n",
      "3 used; 3 unused.\n",
      "4 used; 3 unused.\n",
      "0 used; 7 unused.\n",
      "1 used; 6 unused.\n",
      "2 used; 5 unused.\n",
      "3 used; 4 unused.\n",
      "4 used; 4 unused.\n",
      "5 used; 3 unused.\n",
      "6 used; 2 unused.\n",
      "7 used; 1 unused.\n",
      "8 used; 1 unused.\n",
      "0 used; 6 unused.\n",
      "1 used; 5 unused.\n",
      "2 used; 4 unused.\n",
      "3 used; 3 unused.\n",
      "0 used; 6 unused.\n",
      "1 used; 5 unused.\n",
      "2 used; 4 unused.\n",
      "3 used; 3 unused.\n",
      "4 used; 3 unused.\n",
      "5 used; 3 unused.\n",
      "6 used; 2 unused.\n",
      "7 used; 1 unused.\n",
      "0 used; 5 unused.\n",
      "1 used; 4 unused.\n",
      "2 used; 3 unused.\n",
      "3 used; 2 unused.\n",
      "0 used; 6 unused.\n",
      "1 used; 5 unused.\n",
      "2 used; 4 unused.\n",
      "3 used; 3 unused.\n",
      "4 used; 2 unused.\n",
      "5 used; 2 unused.\n",
      "6 used; 1 unused.\n",
      "0 used; 5 unused.\n",
      "1 used; 4 unused.\n",
      "2 used; 3 unused.\n",
      "3 used; 3 unused.\n",
      "4 used; 2 unused.\n",
      "0 used; 6 unused.\n",
      "1 used; 5 unused.\n",
      "2 used; 4 unused.\n",
      "3 used; 4 unused.\n",
      "4 used; 3 unused.\n",
      "5 used; 2 unused.\n",
      "6 used; 1 unused.\n",
      "0 used; 5 unused.\n",
      "1 used; 4 unused.\n",
      "2 used; 3 unused.\n",
      "3 used; 2 unused.\n",
      "4 used; 1 unused.\n",
      "0 used; 5 unused.\n",
      "1 used; 4 unused.\n",
      "2 used; 3 unused.\n",
      "0 used; 5 unused.\n",
      "1 used; 4 unused.\n",
      "2 used; 3 unused.\n",
      "0 used; 4 unused.\n",
      "1 used; 3 unused.\n",
      "2 used; 2 unused.\n",
      "0 used; 4 unused.\n",
      "1 used; 3 unused.\n",
      "2 used; 2 unused.\n",
      "CPU time (user): 0.355000\n"
     ]
    },
    {
     "data": {
      "text/plain": [
       "[true; true; true; true; true; true; true; true; true; true; true; true; true; true; true; true; true; true; true; true; true; true; true; true; true; true; true; true; true; true; true; true]"
      ]
     },
     "metadata": {},
     "output_type": "display_data"
    }
   ],
   "source": [
    "time presolution Pelletier.p34"
   ]
  },
  {
   "cell_type": "code",
   "execution_count": 37,
   "metadata": {
    "dotnet_interactive": {
     "language": "fsharp"
    },
    "polyglot_notebook": {
     "kernelName": "fsharp"
    }
   },
   "outputs": [
    {
     "name": "stdout",
     "output_type": "stream",
     "text": [
      "`exists x y. P(x,y) ==> (forall x y. P(x,y))`\n",
      "0 used; 2 unused.\n",
      "1 used; 1 unused.\n",
      "CPU time (user): 0.001371\n"
     ]
    },
    {
     "data": {
      "text/plain": [
       "[true]"
      ]
     },
     "metadata": {},
     "output_type": "display_data"
    }
   ],
   "source": [
    "time presolution Pelletier.p35"
   ]
  },
  {
   "cell_type": "markdown",
   "metadata": {},
   "source": [
    "### Full predicate logic (without Identity and Functions)"
   ]
  },
  {
   "cell_type": "code",
   "execution_count": 38,
   "metadata": {
    "dotnet_interactive": {
     "language": "fsharp"
    },
    "polyglot_notebook": {
     "kernelName": "fsharp"
    }
   },
   "outputs": [
    {
     "name": "stdout",
     "output_type": "stream",
     "text": [
      "`(forall x. exists y. P(x,y)) /\\ (forall x. exists y. G(x,y)) /\\ (forall x y. P(x,y) \\/ G(x,y) ==> (forall z. P(y,z) \\/ G(y,z) ==> H(x,z))) ==> (forall x. exists y. H(x,y))`\n",
      "0 used; 7 unused.\n",
      "1 used; 6 unused.\n",
      "2 used; 7 unused.\n",
      "3 used; 7 unused.\n",
      "4 used; 7 unused.\n",
      "5 used; 6 unused.\n",
      "6 used; 9 unused.\n",
      "7 used; 8 unused.\n",
      "8 used; 8 unused.\n",
      "9 used; 7 unused.\n",
      "10 used; 7 unused.\n",
      "11 used; 7 unused.\n",
      "12 used; 7 unused.\n",
      "13 used; 6 unused.\n",
      "14 used; 5 unused.\n",
      "15 used; 4 unused.\n",
      "CPU time (user): 0.030661\n"
     ]
    },
    {
     "data": {
      "text/plain": [
       "[true]"
      ]
     },
     "metadata": {},
     "output_type": "display_data"
    }
   ],
   "source": [
    "time presolution Pelletier.p36"
   ]
  },
  {
   "cell_type": "code",
   "execution_count": 39,
   "metadata": {
    "dotnet_interactive": {
     "language": "fsharp"
    },
    "polyglot_notebook": {
     "kernelName": "fsharp"
    }
   },
   "outputs": [
    {
     "name": "stdout",
     "output_type": "stream",
     "text": [
      "`(forall z. exists w. forall x. exists y. (P(x,z) ==> P(y,w)) /\\ P(y,z) /\\ (P(y,w) ==> (exists u. Q(u,w)))) /\\ (forall x z. ~P(x,z) ==> (exists y. Q(y,z))) /\\ ((exists x y. Q(x,y)) ==> (forall x. R(x,x))) ==> (forall x. exists y. R(x,y))`\n",
      "0 used; 6 unused.\n",
      "1 used; 5 unused.\n",
      "2 used; 4 unused.\n",
      "3 used; 5 unused.\n",
      "4 used; 5 unused.\n",
      "5 used; 4 unused.\n",
      "0 used; 6 unused.\n",
      "1 used; 5 unused.\n",
      "2 used; 4 unused.\n",
      "3 used; 5 unused.\n",
      "4 used; 5 unused.\n",
      "5 used; 4 unused.\n",
      "6 used; 3 unused.\n",
      "7 used; 2 unused.\n",
      "8 used; 2 unused.\n",
      "CPU time (user): 0.047526\n"
     ]
    },
    {
     "data": {
      "text/plain": [
       "[true; true]"
      ]
     },
     "metadata": {},
     "output_type": "display_data"
    }
   ],
   "source": [
    "time presolution Pelletier.p37"
   ]
  },
  {
   "cell_type": "code",
   "execution_count": 40,
   "metadata": {
    "dotnet_interactive": {
     "language": "fsharp"
    },
    "polyglot_notebook": {
     "kernelName": "fsharp"
    }
   },
   "outputs": [
    {
     "name": "stdout",
     "output_type": "stream",
     "text": [
      "`(forall x. P(a) /\\ (P(x) ==> (exists y. P(y) /\\ R(x,y))) ==> (exists z w. P(z) /\\ R(x,w) /\\ R(w,z))) <=> (forall x. (~P(a) \\/ P(x) \\/ (exists z w. P(z) /\\ R(x,w) /\\ R(w,z))) /\\ (~P(a) \\/ ~(exists y. P(y) /\\ R(x,y)) \\/ (exists z w. P(z) /\\ R(x,w) /\\ R(w,z))))`\n",
      "0 used; 10 unused.\n",
      "1 used; 9 unused.\n",
      "2 used; 8 unused.\n",
      "3 used; 7 unused.\n",
      "4 used; 9 unused.\n",
      "5 used; 8 unused.\n",
      "6 used; 10 unused.\n",
      "7 used; 12 unused.\n",
      "8 used; 13 unused.\n",
      "9 used; 16 unused.\n",
      "10 used; 19 unused.\n",
      "11 used; 26 unused.\n",
      "12 used; 33 unused.\n",
      "13 used; 42 unused.\n",
      "14 used; 42 unused.\n",
      "15 used; 41 unused.\n",
      "16 used; 43 unused.\n",
      "17 used; 43 unused.\n",
      "18 used; 42 unused.\n",
      "19 used; 44 unused.\n",
      "20 used; 43 unused.\n",
      "21 used; 42 unused.\n",
      "22 used; 43 unused.\n",
      "23 used; 43 unused.\n",
      "24 used; 42 unused.\n",
      "25 used; 42 unused.\n",
      "26 used; 48 unused.\n",
      "27 used; 48 unused.\n",
      "28 used; 48 unused.\n",
      "29 used; 48 unused.\n",
      "30 used; 50 unused.\n",
      "31 used; 51 unused.\n",
      "32 used; 52 unused.\n",
      "33 used; 52 unused.\n",
      "34 used; 53 unused.\n",
      "35 used; 52 unused.\n",
      "36 used; 53 unused.\n",
      "37 used; 52 unused.\n",
      "38 used; 55 unused.\n",
      "39 used; 54 unused.\n",
      "40 used; 53 unused.\n",
      "41 used; 52 unused.\n",
      "42 used; 52 unused.\n",
      "43 used; 51 unused.\n",
      "44 used; 50 unused.\n",
      "45 used; 64 unused.\n",
      "46 used; 63 unused.\n",
      "47 used; 63 unused.\n",
      "48 used; 62 unused.\n",
      "49 used; 63 unused.\n",
      "50 used; 62 unused.\n",
      "51 used; 62 unused.\n",
      "52 used; 61 unused.\n",
      "53 used; 60 unused.\n",
      "54 used; 77 unused.\n",
      "55 used; 98 unused.\n",
      "56 used; 97 unused.\n",
      "57 used; 101 unused.\n",
      "58 used; 100 unused.\n",
      "59 used; 99 unused.\n",
      "60 used; 98 unused.\n",
      "61 used; 105 unused.\n",
      "62 used; 104 unused.\n",
      "63 used; 103 unused.\n",
      "64 used; 102 unused.\n",
      "65 used; 117 unused.\n",
      "66 used; 116 unused.\n",
      "67 used; 115 unused.\n",
      "68 used; 114 unused.\n",
      "69 used; 113 unused.\n",
      "70 used; 112 unused.\n",
      "71 used; 111 unused.\n",
      "72 used; 110 unused.\n",
      "73 used; 109 unused.\n",
      "74 used; 108 unused.\n",
      "75 used; 107 unused.\n",
      "76 used; 106 unused.\n",
      "77 used; 105 unused.\n",
      "78 used; 104 unused.\n",
      "79 used; 108 unused.\n",
      "80 used; 108 unused.\n",
      "81 used; 107 unused.\n",
      "82 used; 145 unused.\n",
      "83 used; 163 unused.\n",
      "84 used; 175 unused.\n",
      "84 used; 177 unused.\n",
      "85 used; 210 unused.\n",
      "86 used; 222 unused.\n",
      "87 used; 252 unused.\n",
      "88 used; 265 unused.\n",
      "89 used; 270 unused.\n",
      "90 used; 270 unused.\n",
      "91 used; 269 unused.\n",
      "92 used; 268 unused.\n",
      "93 used; 269 unused.\n",
      "94 used; 271 unused.\n",
      "95 used; 274 unused.\n",
      "96 used; 329 unused.\n",
      "97 used; 332 unused.\n",
      "98 used; 335 unused.\n",
      "99 used; 337 unused.\n",
      "100 used; 345 unused.\n",
      "101 used; 374 unused.\n",
      "102 used; 373 unused.\n",
      "103 used; 382 unused.\n",
      "104 used; 394 unused.\n",
      "105 used; 397 unused.\n",
      "106 used; 404 unused.\n",
      "107 used; 427 unused.\n",
      "108 used; 437 unused.\n",
      "109 used; 468 unused.\n",
      "110 used; 473 unused.\n",
      "111 used; 480 unused.\n",
      "112 used; 486 unused.\n",
      "113 used; 485 unused.\n",
      "114 used; 487 unused.\n",
      "115 used; 492 unused.\n",
      "116 used; 496 unused.\n",
      "117 used; 495 unused.\n",
      "118 used; 494 unused.\n",
      "119 used; 496 unused.\n",
      "120 used; 503 unused.\n",
      "121 used; 502 unused.\n",
      "122 used; 501 unused.\n",
      "123 used; 509 unused.\n",
      "124 used; 522 unused.\n",
      "125 used; 521 unused.\n",
      "126 used; 520 unused.\n",
      "127 used; 523 unused.\n",
      "128 used; 530 unused.\n",
      "128 used; 529 unused.\n",
      "129 used; 562 unused.\n",
      "130 used; 561 unused.\n",
      "131 used; 575 unused.\n",
      "132 used; 577 unused.\n",
      "133 used; 578 unused.\n",
      "134 used; 578 unused.\n",
      "135 used; 580 unused.\n",
      "136 used; 580 unused.\n",
      "137 used; 579 unused.\n",
      "138 used; 578 unused.\n",
      "139 used; 578 unused.\n",
      "140 used; 585 unused.\n",
      "141 used; 584 unused.\n",
      "142 used; 583 unused.\n",
      "143 used; 588 unused.\n",
      "144 used; 599 unused.\n",
      "145 used; 598 unused.\n",
      "146 used; 597 unused.\n",
      "147 used; 599 unused.\n",
      "148 used; 607 unused.\n",
      "149 used; 606 unused.\n",
      "150 used; 622 unused.\n",
      "151 used; 646 unused.\n",
      "152 used; 645 unused.\n",
      "153 used; 645 unused.\n",
      "154 used; 644 unused.\n",
      "155 used; 643 unused.\n",
      "156 used; 642 unused.\n",
      "157 used; 661 unused.\n",
      "158 used; 664 unused.\n",
      "159 used; 663 unused.\n",
      "160 used; 670 unused.\n",
      "161 used; 675 unused.\n",
      "162 used; 681 unused.\n",
      "163 used; 687 unused.\n",
      "164 used; 689 unused.\n",
      "0 used; 10 unused.\n",
      "1 used; 9 unused.\n",
      "2 used; 8 unused.\n",
      "3 used; 7 unused.\n",
      "4 used; 9 unused.\n",
      "5 used; 8 unused.\n",
      "6 used; 10 unused.\n",
      "7 used; 12 unused.\n",
      "8 used; 13 unused.\n",
      "9 used; 16 unused.\n",
      "10 used; 19 unused.\n",
      "11 used; 26 unused.\n",
      "12 used; 35 unused.\n",
      "13 used; 44 unused.\n",
      "14 used; 44 unused.\n",
      "15 used; 43 unused.\n",
      "16 used; 44 unused.\n",
      "17 used; 44 unused.\n",
      "18 used; 43 unused.\n",
      "19 used; 44 unused.\n",
      "20 used; 43 unused.\n",
      "21 used; 42 unused.\n",
      "22 used; 43 unused.\n",
      "23 used; 43 unused.\n",
      "24 used; 42 unused.\n",
      "25 used; 42 unused.\n",
      "26 used; 48 unused.\n",
      "27 used; 48 unused.\n",
      "28 used; 48 unused.\n",
      "29 used; 48 unused.\n",
      "30 used; 50 unused.\n",
      "31 used; 51 unused.\n",
      "32 used; 52 unused.\n",
      "33 used; 53 unused.\n",
      "34 used; 54 unused.\n",
      "35 used; 54 unused.\n",
      "36 used; 55 unused.\n",
      "37 used; 55 unused.\n",
      "38 used; 58 unused.\n",
      "39 used; 59 unused.\n",
      "40 used; 58 unused.\n",
      "41 used; 59 unused.\n",
      "42 used; 59 unused.\n",
      "43 used; 60 unused.\n",
      "44 used; 59 unused.\n",
      "45 used; 60 unused.\n",
      "46 used; 59 unused.\n",
      "47 used; 79 unused.\n",
      "48 used; 78 unused.\n",
      "49 used; 78 unused.\n",
      "50 used; 77 unused.\n",
      "51 used; 78 unused.\n",
      "52 used; 77 unused.\n",
      "53 used; 77 unused.\n",
      "54 used; 76 unused.\n",
      "55 used; 76 unused.\n",
      "56 used; 93 unused.\n",
      "57 used; 116 unused.\n",
      "58 used; 115 unused.\n",
      "59 used; 120 unused.\n",
      "60 used; 119 unused.\n",
      "61 used; 118 unused.\n",
      "62 used; 133 unused.\n",
      "63 used; 132 unused.\n",
      "64 used; 131 unused.\n",
      "65 used; 146 unused.\n",
      "66 used; 145 unused.\n",
      "67 used; 144 unused.\n",
      "68 used; 143 unused.\n",
      "69 used; 142 unused.\n",
      "70 used; 142 unused.\n",
      "71 used; 143 unused.\n",
      "72 used; 142 unused.\n",
      "73 used; 141 unused.\n",
      "74 used; 140 unused.\n",
      "75 used; 139 unused.\n",
      "76 used; 138 unused.\n",
      "77 used; 137 unused.\n",
      "78 used; 136 unused.\n",
      "79 used; 140 unused.\n",
      "80 used; 140 unused.\n",
      "81 used; 141 unused.\n",
      "82 used; 141 unused.\n",
      "83 used; 179 unused.\n",
      "84 used; 195 unused.\n",
      "84 used; 194 unused.\n",
      "85 used; 246 unused.\n",
      "86 used; 280 unused.\n",
      "87 used; 296 unused.\n",
      "88 used; 336 unused.\n",
      "89 used; 366 unused.\n",
      "90 used; 382 unused.\n",
      "91 used; 416 unused.\n",
      "92 used; 423 unused.\n",
      "93 used; 423 unused.\n",
      "94 used; 422 unused.\n",
      "94 used; 421 unused.\n",
      "95 used; 421 unused.\n",
      "96 used; 421 unused.\n",
      "97 used; 476 unused.\n",
      "98 used; 521 unused.\n",
      "99 used; 521 unused.\n",
      "100 used; 564 unused.\n",
      "101 used; 599 unused.\n",
      "102 used; 637 unused.\n",
      "103 used; 669 unused.\n",
      "104 used; 671 unused.\n",
      "105 used; 674 unused.\n",
      "106 used; 676 unused.\n",
      "107 used; 678 unused.\n",
      "108 used; 686 unused.\n",
      "109 used; 748 unused.\n",
      "110 used; 747 unused.\n",
      "111 used; 793 unused.\n",
      "112 used; 792 unused.\n",
      "113 used; 858 unused.\n",
      "114 used; 896 unused.\n",
      "115 used; 897 unused.\n",
      "116 used; 903 unused.\n",
      "117 used; 915 unused.\n",
      "118 used; 985 unused.\n"
     ]
    },
    {
     "ename": "Error",
     "evalue": "Command cancelled.",
     "output_type": "error",
     "traceback": [
      "Command cancelled."
     ]
    }
   ],
   "source": [
    "// Too slow\n",
    "//time presolution Pelletier.p38"
   ]
  },
  {
   "cell_type": "code",
   "execution_count": 3,
   "metadata": {
    "dotnet_interactive": {
     "language": "fsharp"
    },
    "polyglot_notebook": {
     "kernelName": "fsharp"
    }
   },
   "outputs": [
    {
     "name": "stdout",
     "output_type": "stream",
     "text": [
      "`~(exists x. forall y. P(y,x) <=> ~P(y,y))`\n",
      "0 used; 2 unused.\n",
      "1 used; 1 unused.\n",
      "CPU time (user): 0.082232\n"
     ]
    },
    {
     "data": {
      "text/plain": [
       "[true]"
      ]
     },
     "metadata": {},
     "output_type": "display_data"
    }
   ],
   "source": [
    "time presolution Pelletier.p39"
   ]
  },
  {
   "cell_type": "code",
   "execution_count": 4,
   "metadata": {
    "dotnet_interactive": {
     "language": "fsharp"
    },
    "polyglot_notebook": {
     "kernelName": "fsharp"
    }
   },
   "outputs": [
    {
     "name": "stdout",
     "output_type": "stream",
     "text": [
      "`(exists y. forall x. P(x,y) <=> P(x,x)) ==> ~(forall x. exists y. forall z. P(z,y) <=> ~P(z,x))`\n",
      "0 used; 4 unused.\n",
      "1 used; 3 unused.\n",
      "2 used; 2 unused.\n",
      "3 used; 4 unused.\n",
      "4 used; 5 unused.\n",
      "5 used; 9 unused.\n",
      "6 used; 11 unused.\n",
      "7 used; 18 unused.\n",
      "8 used; 26 unused.\n",
      "9 used; 27 unused.\n",
      "CPU time (user): 0.333205\n"
     ]
    },
    {
     "data": {
      "text/plain": [
       "[true]"
      ]
     },
     "metadata": {},
     "output_type": "display_data"
    }
   ],
   "source": [
    "time presolution Pelletier.p40"
   ]
  },
  {
   "cell_type": "code",
   "execution_count": 5,
   "metadata": {
    "dotnet_interactive": {
     "language": "fsharp"
    },
    "polyglot_notebook": {
     "kernelName": "fsharp"
    }
   },
   "outputs": [
    {
     "name": "stdout",
     "output_type": "stream",
     "text": [
      "`(forall z. exists y. forall x. P(x,y) <=> P(x,z) /\\ ~P(x,x)) ==> ~(exists z. forall x. P(x,z))`\n",
      "0 used; 4 unused.\n",
      "1 used; 3 unused.\n",
      "2 used; 2 unused.\n",
      "3 used; 2 unused.\n",
      "4 used; 2 unused.\n",
      "CPU time (user): 0.024545\n"
     ]
    },
    {
     "data": {
      "text/plain": [
       "[true]"
      ]
     },
     "metadata": {},
     "output_type": "display_data"
    }
   ],
   "source": [
    "time presolution Pelletier.p41"
   ]
  },
  {
   "cell_type": "code",
   "execution_count": 6,
   "metadata": {
    "dotnet_interactive": {
     "language": "fsharp"
    },
    "polyglot_notebook": {
     "kernelName": "fsharp"
    }
   },
   "outputs": [
    {
     "name": "stdout",
     "output_type": "stream",
     "text": [
      "`~(exists y. forall x. P(x,y) <=> ~(exists z. P(x,z) /\\ P(z,x)))`\n",
      "0 used; 5 unused.\n",
      "1 used; 4 unused.\n",
      "2 used; 3 unused.\n",
      "3 used; 8 unused.\n",
      "4 used; 11 unused.\n",
      "5 used; 16 unused.\n",
      "6 used; 16 unused.\n",
      "7 used; 16 unused.\n",
      "8 used; 16 unused.\n",
      "9 used; 16 unused.\n",
      "10 used; 21 unused.\n",
      "11 used; 21 unused.\n",
      "12 used; 21 unused.\n",
      "13 used; 22 unused.\n",
      "14 used; 22 unused.\n",
      "15 used; 27 unused.\n",
      "CPU time (user): 0.561510\n"
     ]
    },
    {
     "data": {
      "text/plain": [
       "[true]"
      ]
     },
     "metadata": {},
     "output_type": "display_data"
    }
   ],
   "source": [
    "time presolution Pelletier.p42"
   ]
  },
  {
   "cell_type": "code",
   "execution_count": 7,
   "metadata": {
    "dotnet_interactive": {
     "language": "fsharp"
    },
    "polyglot_notebook": {
     "kernelName": "fsharp"
    }
   },
   "outputs": [
    {
     "name": "stdout",
     "output_type": "stream",
     "text": [
      "`(forall x y. Q(x,y) <=> (forall z. P(z,x) <=> P(z,y))) ==> (forall x y. Q(x,y) <=> Q(y,x))`\n",
      "0 used; 10 unused.\n",
      "1 used; 9 unused.\n",
      "2 used; 8 unused.\n",
      "3 used; 7 unused.\n",
      "4 used; 6 unused.\n",
      "5 used; 5 unused.\n",
      "6 used; 4 unused.\n",
      "7 used; 23 unused.\n",
      "8 used; 22 unused.\n",
      "9 used; 23 unused.\n",
      "10 used; 23 unused.\n",
      "11 used; 22 unused.\n",
      "12 used; 21 unused.\n",
      "13 used; 21 unused.\n",
      "14 used; 21 unused.\n",
      "15 used; 20 unused.\n",
      "16 used; 19 unused.\n",
      "17 used; 18 unused.\n",
      "18 used; 18 unused.\n",
      "19 used; 53 unused.\n",
      "20 used; 74 unused.\n",
      "21 used; 73 unused.\n",
      "21 used; 72 unused.\n",
      "22 used; 73 unused.\n",
      "23 used; 74 unused.\n",
      "24 used; 73 unused.\n",
      "25 used; 72 unused.\n",
      "26 used; 71 unused.\n",
      "27 used; 70 unused.\n",
      "28 used; 113 unused.\n"
     ]
    },
    {
     "ename": "Error",
     "evalue": "Command cancelled.",
     "output_type": "error",
     "traceback": [
      "Command cancelled."
     ]
    }
   ],
   "source": [
    "// too slow\n",
    "// time presolution Pelletier.p43"
   ]
  },
  {
   "cell_type": "code",
   "execution_count": 6,
   "metadata": {
    "dotnet_interactive": {
     "language": "fsharp"
    },
    "polyglot_notebook": {
     "kernelName": "fsharp"
    }
   },
   "outputs": [
    {
     "name": "stdout",
     "output_type": "stream",
     "text": [
      "`(forall x. P(x) ==> (exists y. G(y) /\\ H(x,y)) /\\ (exists y. G(y) /\\ ~H(x,y))) /\\ (exists x. J(x) /\\ (forall y. G(y) ==> H(x,y))) ==> (exists x. J(x) /\\ ~P(x))`\n",
      "0 used; 7 unused.\n",
      "1 used; 6 unused.\n",
      "2 used; 5 unused.\n",
      "3 used; 4 unused.\n",
      "4 used; 3 unused.\n",
      "5 used; 2 unused.\n",
      "6 used; 2 unused.\n",
      "7 used; 1 unused.\n",
      "8 used; 4 unused.\n",
      "9 used; 3 unused.\n",
      "10 used; 2 unused.\n",
      "11 used; 2 unused.\n",
      "12 used; 2 unused.\n",
      "CPU time (user): 0.015099\n"
     ]
    },
    {
     "data": {
      "text/plain": [
       "[true]"
      ]
     },
     "metadata": {},
     "output_type": "display_data"
    }
   ],
   "source": [
    "time presolution Pelletier.p44"
   ]
  },
  {
   "cell_type": "code",
   "execution_count": 7,
   "metadata": {
    "dotnet_interactive": {
     "language": "fsharp"
    },
    "polyglot_notebook": {
     "kernelName": "fsharp"
    }
   },
   "outputs": [
    {
     "name": "stdout",
     "output_type": "stream",
     "text": [
      "`(forall x. P(x) /\\ (forall y. G(y) /\\ H(x,y) ==> J(x,y)) ==> (forall y. G(y) /\\ H(x,y) ==> R(y))) /\\ ~(exists y. L(y) /\\ R(y)) /\\ (exists x. P(x) /\\ (forall y. H(x,y) ==> L(y)) /\\ (forall y. G(y) /\\ H(x,y) ==> J(x,y))) ==> (exists x. P(x) /\\ ~(exists y. G(y) /\\ H(x,y)))`\n",
      "0 used; 9 unused.\n",
      "1 used; 8 unused.\n",
      "2 used; 7 unused.\n",
      "3 used; 6 unused.\n",
      "4 used; 5 unused.\n",
      "5 used; 4 unused.\n",
      "6 used; 3 unused.\n",
      "7 used; 6 unused.\n",
      "8 used; 6 unused.\n",
      "9 used; 5 unused.\n",
      "10 used; 9 unused.\n",
      "11 used; 8 unused.\n",
      "12 used; 12 unused.\n",
      "13 used; 12 unused.\n",
      "14 used; 12 unused.\n",
      "15 used; 11 unused.\n",
      "16 used; 11 unused.\n",
      "17 used; 10 unused.\n",
      "18 used; 9 unused.\n",
      "19 used; 8 unused.\n",
      "20 used; 7 unused.\n",
      "21 used; 6 unused.\n",
      "22 used; 8 unused.\n",
      "23 used; 9 unused.\n",
      "24 used; 8 unused.\n",
      "25 used; 12 unused.\n",
      "26 used; 11 unused.\n",
      "27 used; 10 unused.\n",
      "28 used; 10 unused.\n",
      "29 used; 10 unused.\n",
      "30 used; 9 unused.\n",
      "31 used; 8 unused.\n",
      "31 used; 9 unused.\n",
      "32 used; 9 unused.\n",
      "33 used; 9 unused.\n",
      "34 used; 10 unused.\n",
      "35 used; 9 unused.\n",
      "36 used; 10 unused.\n",
      "37 used; 10 unused.\n",
      "38 used; 9 unused.\n",
      "38 used; 10 unused.\n",
      "CPU time (user): 0.276606\n"
     ]
    },
    {
     "data": {
      "text/plain": [
       "[true]"
      ]
     },
     "metadata": {},
     "output_type": "display_data"
    }
   ],
   "source": [
    "time presolution Pelletier.p45"
   ]
  },
  {
   "cell_type": "code",
   "execution_count": 8,
   "metadata": {
    "dotnet_interactive": {
     "language": "fsharp"
    },
    "polyglot_notebook": {
     "kernelName": "fsharp"
    }
   },
   "outputs": [
    {
     "name": "stdout",
     "output_type": "stream",
     "text": [
      "`(forall x. P(x) /\\ (forall y. P(y) /\\ H(y,x) ==> G(y)) ==> G(x)) /\\ ((exists x. P(x) /\\ ~G(x)) ==> (exists x. P(x) /\\ ~G(x) /\\ (forall y. P(y) /\\ ~G(y) ==> J(x,y)))) /\\ (forall x y. P(x) /\\ P(y) /\\ H(x,y) ==> ~J(y,x)) ==> (forall x. P(x) ==> G(x))`\n",
      "0 used; 9 unused.\n",
      "1 used; 8 unused.\n",
      "2 used; 7 unused.\n",
      "3 used; 6 unused.\n",
      "4 used; 5 unused.\n",
      "5 used; 8 unused.\n",
      "6 used; 11 unused.\n",
      "7 used; 10 unused.\n",
      "8 used; 9 unused.\n",
      "9 used; 14 unused.\n",
      "10 used; 13 unused.\n",
      "11 used; 20 unused.\n",
      "12 used; 21 unused.\n",
      "13 used; 22 unused.\n",
      "14 used; 21 unused.\n",
      "15 used; 28 unused.\n",
      "16 used; 29 unused.\n",
      "17 used; 30 unused.\n",
      "18 used; 29 unused.\n",
      "19 used; 32 unused.\n",
      "20 used; 34 unused.\n",
      "21 used; 33 unused.\n",
      "22 used; 36 unused.\n",
      "23 used; 37 unused.\n",
      "24 used; 37 unused.\n",
      "25 used; 36 unused.\n",
      "26 used; 38 unused.\n",
      "27 used; 39 unused.\n",
      "28 used; 38 unused.\n",
      "29 used; 51 unused.\n",
      "30 used; 53 unused.\n",
      "31 used; 55 unused.\n",
      "32 used; 54 unused.\n",
      "33 used; 53 unused.\n",
      "34 used; 53 unused.\n",
      "35 used; 53 unused.\n",
      "36 used; 53 unused.\n",
      "37 used; 52 unused.\n",
      "38 used; 54 unused.\n",
      "39 used; 57 unused.\n",
      "40 used; 56 unused.\n",
      "41 used; 71 unused.\n",
      "42 used; 73 unused.\n",
      "43 used; 75 unused.\n",
      "44 used; 74 unused.\n",
      "45 used; 75 unused.\n",
      "46 used; 74 unused.\n",
      "47 used; 74 unused.\n",
      "47 used; 73 unused.\n",
      "48 used; 72 unused.\n",
      "49 used; 71 unused.\n",
      "50 used; 70 unused.\n",
      "51 used; 69 unused.\n",
      "52 used; 68 unused.\n",
      "53 used; 67 unused.\n",
      "54 used; 66 unused.\n",
      "55 used; 65 unused.\n",
      "56 used; 64 unused.\n",
      "57 used; 63 unused.\n",
      "58 used; 62 unused.\n",
      "59 used; 61 unused.\n",
      "60 used; 60 unused.\n",
      "61 used; 59 unused.\n",
      "62 used; 58 unused.\n",
      "63 used; 57 unused.\n",
      "64 used; 59 unused.\n",
      "65 used; 61 unused.\n",
      "66 used; 60 unused.\n",
      "67 used; 59 unused.\n",
      "68 used; 58 unused.\n",
      "69 used; 57 unused.\n",
      "70 used; 60 unused.\n",
      "71 used; 59 unused.\n",
      "72 used; 62 unused.\n",
      "0 used; 4 unused.\n",
      "1 used; 3 unused.\n",
      "2 used; 3 unused.\n",
      "3 used; 2 unused.\n",
      "4 used; 4 unused.\n",
      "CPU time (user): 2.095258\n"
     ]
    },
    {
     "data": {
      "text/plain": [
       "[true; true]"
      ]
     },
     "metadata": {},
     "output_type": "display_data"
    }
   ],
   "source": [
    "time presolution Pelletier.p46"
   ]
  },
  {
   "cell_type": "markdown",
   "metadata": {},
   "source": [
    "### Example from Manthey and Bry, CADE-9.  "
   ]
  },
  {
   "cell_type": "code",
   "execution_count": 10,
   "metadata": {
    "dotnet_interactive": {
     "language": "fsharp"
    },
    "polyglot_notebook": {
     "kernelName": "fsharp"
    }
   },
   "outputs": [
    {
     "name": "stdout",
     "output_type": "stream",
     "text": [
      "`lives(agatha) /\\ lives(butler) /\\ lives(charles) /\\ (killed(agatha,agatha) \\/ killed(butler,agatha) \\/ killed(charles,agatha)) /\\ (forall x y. killed(x,y) ==> hates(x,y) /\\ ~richer(x,y)) /\\ (forall x. hates(agatha,x) ==> ~hates(charles,x)) /\\ (hates(agatha,agatha) /\\ hates(agatha,charles)) /\\ (forall x. lives(x) /\\ ~richer(x,agatha) ==> hates(butler,x)) /\\ (forall x. hates(agatha,x) ==> hates(butler,x)) /\\ (forall x. ~hates(x,agatha) \\/ ~hates(x,butler) \\/ ~hates(x,charles)) ==> killed(agatha,agatha) /\\ ~killed(butler,agatha) /\\ ~killed(charles,agatha)`\n",
      "0 used; 12 unused.\n",
      "1 used; 11 unused.\n",
      "2 used; 10 unused.\n",
      "3 used; 9 unused.\n",
      "4 used; 8 unused.\n",
      "5 used; 9 unused.\n",
      "6 used; 8 unused.\n",
      "7 used; 7 unused.\n",
      "8 used; 7 unused.\n",
      "9 used; 6 unused.\n",
      "10 used; 7 unused.\n",
      "11 used; 8 unused.\n",
      "12 used; 8 unused.\n",
      "13 used; 8 unused.\n",
      "14 used; 8 unused.\n",
      "15 used; 9 unused.\n",
      "16 used; 8 unused.\n",
      "17 used; 7 unused.\n",
      "18 used; 6 unused.\n",
      "19 used; 5 unused.\n",
      "20 used; 4 unused.\n",
      "21 used; 3 unused.\n",
      "22 used; 2 unused.\n",
      "0 used; 12 unused.\n",
      "1 used; 11 unused.\n",
      "2 used; 10 unused.\n",
      "3 used; 9 unused.\n",
      "4 used; 8 unused.\n",
      "5 used; 9 unused.\n",
      "6 used; 9 unused.\n",
      "7 used; 8 unused.\n",
      "8 used; 8 unused.\n",
      "9 used; 7 unused.\n",
      "10 used; 8 unused.\n",
      "11 used; 9 unused.\n",
      "12 used; 9 unused.\n",
      "13 used; 9 unused.\n",
      "14 used; 9 unused.\n",
      "15 used; 8 unused.\n",
      "16 used; 9 unused.\n",
      "CPU time (user): 0.112339\n"
     ]
    },
    {
     "data": {
      "text/plain": [
       "[true; true]"
      ]
     },
     "metadata": {},
     "output_type": "display_data"
    }
   ],
   "source": [
    "time presolution Pelletier.p55"
   ]
  }
 ],
 "metadata": {
  "kernelspec": {
   "display_name": ".NET (C#)",
   "language": "C#",
   "name": ".net-csharp"
  },
  "language_info": {
   "name": "polyglot-notebook"
  },
  "polyglot_notebook": {
   "kernelInfo": {
    "defaultKernelName": "csharp",
    "items": [
     {
      "aliases": [],
      "name": "csharp"
     },
     {
      "aliases": [],
      "languageName": "fsharp",
      "name": "fsharp"
     }
    ]
   }
  }
 },
 "nbformat": 4,
 "nbformat_minor": 2
}
