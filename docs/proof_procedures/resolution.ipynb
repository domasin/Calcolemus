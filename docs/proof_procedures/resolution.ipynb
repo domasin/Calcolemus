{
 "cells": [
  {
   "cell_type": "markdown",
   "metadata": {},
   "source": [
    "# Resolution"
   ]
  },
  {
   "cell_type": "code",
   "execution_count": 1,
   "metadata": {
    "dotnet_interactive": {
     "language": "fsharp"
    },
    "polyglot_notebook": {
     "kernelName": "fsharp"
    }
   },
   "outputs": [],
   "source": [
    "#load \"../Initialization.fsx\"\n",
    "\n",
    "open Calculemus.Lib.Time\n",
    "open Calculemus\n",
    "open Resolution\n",
    "open Fol"
   ]
  },
  {
   "cell_type": "code",
   "execution_count": 2,
   "metadata": {
    "dotnet_interactive": {
     "language": "fsharp"
    },
    "polyglot_notebook": {
     "kernelName": "fsharp"
    }
   },
   "outputs": [],
   "source": [
    "let time proofProcedure fm = \n",
    "    fm |> sprint_fol_formula |> printfn \"%s\"\n",
    "    time presolution fm"
   ]
  },
  {
   "cell_type": "markdown",
   "metadata": {},
   "source": [
    "## Propositional Logic"
   ]
  },
  {
   "cell_type": "code",
   "execution_count": 3,
   "metadata": {
    "dotnet_interactive": {
     "language": "fsharp"
    },
    "polyglot_notebook": {
     "kernelName": "fsharp"
    }
   },
   "outputs": [
    {
     "name": "stdout",
     "output_type": "stream",
     "text": [
      "`p ==> q <=> ~q ==> ~p`\n",
      "CPU time (user): 0.019551\n"
     ]
    },
    {
     "data": {
      "text/plain": [
       "[]"
      ]
     },
     "metadata": {},
     "output_type": "display_data"
    }
   ],
   "source": [
    "time presolution Pelletier.p1"
   ]
  },
  {
   "cell_type": "code",
   "execution_count": 4,
   "metadata": {
    "dotnet_interactive": {
     "language": "fsharp"
    },
    "polyglot_notebook": {
     "kernelName": "fsharp"
    }
   },
   "outputs": [
    {
     "name": "stdout",
     "output_type": "stream",
     "text": [
      "`~(~p) <=> p`\n",
      "CPU time (user): 0.000043\n"
     ]
    },
    {
     "data": {
      "text/plain": [
       "[]"
      ]
     },
     "metadata": {},
     "output_type": "display_data"
    }
   ],
   "source": [
    "time presolution Pelletier.p2"
   ]
  },
  {
   "cell_type": "code",
   "execution_count": 5,
   "metadata": {
    "dotnet_interactive": {
     "language": "fsharp"
    },
    "polyglot_notebook": {
     "kernelName": "fsharp"
    }
   },
   "outputs": [
    {
     "name": "stdout",
     "output_type": "stream",
     "text": [
      "`~(p ==> q) ==> q ==> p`\n",
      "CPU time (user): 0.000398\n"
     ]
    },
    {
     "data": {
      "text/plain": [
       "[]"
      ]
     },
     "metadata": {},
     "output_type": "display_data"
    }
   ],
   "source": [
    "time presolution Pelletier.p3"
   ]
  },
  {
   "cell_type": "code",
   "execution_count": 6,
   "metadata": {
    "dotnet_interactive": {
     "language": "fsharp"
    },
    "polyglot_notebook": {
     "kernelName": "fsharp"
    }
   },
   "outputs": [
    {
     "name": "stdout",
     "output_type": "stream",
     "text": [
      "`~p ==> q <=> ~q ==> p`\n",
      "CPU time (user): 0.000371\n"
     ]
    },
    {
     "data": {
      "text/plain": [
       "[]"
      ]
     },
     "metadata": {},
     "output_type": "display_data"
    }
   ],
   "source": [
    "time presolution Pelletier.p4"
   ]
  },
  {
   "cell_type": "code",
   "execution_count": 7,
   "metadata": {
    "dotnet_interactive": {
     "language": "fsharp"
    },
    "polyglot_notebook": {
     "kernelName": "fsharp"
    }
   },
   "outputs": [
    {
     "name": "stdout",
     "output_type": "stream",
     "text": [
      "`(p \\/ q ==> p \\/ r) ==> p \\/ (q ==> r)`\n",
      "CPU time (user): 0.000082\n"
     ]
    },
    {
     "data": {
      "text/plain": [
       "[]"
      ]
     },
     "metadata": {},
     "output_type": "display_data"
    }
   ],
   "source": [
    "time presolution Pelletier.p5"
   ]
  },
  {
   "cell_type": "code",
   "execution_count": 8,
   "metadata": {
    "dotnet_interactive": {
     "language": "fsharp"
    },
    "polyglot_notebook": {
     "kernelName": "fsharp"
    }
   },
   "outputs": [
    {
     "name": "stdout",
     "output_type": "stream",
     "text": [
      "`p \\/ ~p`\n",
      "CPU time (user): 0.000043\n"
     ]
    },
    {
     "data": {
      "text/plain": [
       "[]"
      ]
     },
     "metadata": {},
     "output_type": "display_data"
    }
   ],
   "source": [
    "time presolution Pelletier.p6"
   ]
  },
  {
   "cell_type": "code",
   "execution_count": 9,
   "metadata": {
    "dotnet_interactive": {
     "language": "fsharp"
    },
    "polyglot_notebook": {
     "kernelName": "fsharp"
    }
   },
   "outputs": [
    {
     "name": "stdout",
     "output_type": "stream",
     "text": [
      "`p \\/ ~(~(~p))`\n",
      "CPU time (user): 0.000033\n"
     ]
    },
    {
     "data": {
      "text/plain": [
       "[]"
      ]
     },
     "metadata": {},
     "output_type": "display_data"
    }
   ],
   "source": [
    "time presolution Pelletier.p7"
   ]
  },
  {
   "cell_type": "code",
   "execution_count": 10,
   "metadata": {
    "dotnet_interactive": {
     "language": "fsharp"
    },
    "polyglot_notebook": {
     "kernelName": "fsharp"
    }
   },
   "outputs": [
    {
     "name": "stdout",
     "output_type": "stream",
     "text": [
      "`((p ==> q) ==> p) ==> p`\n",
      "CPU time (user): 0.000036\n"
     ]
    },
    {
     "data": {
      "text/plain": [
       "[]"
      ]
     },
     "metadata": {},
     "output_type": "display_data"
    }
   ],
   "source": [
    "time presolution Pelletier.p8"
   ]
  },
  {
   "cell_type": "code",
   "execution_count": 11,
   "metadata": {
    "dotnet_interactive": {
     "language": "fsharp"
    },
    "polyglot_notebook": {
     "kernelName": "fsharp"
    }
   },
   "outputs": [
    {
     "name": "stdout",
     "output_type": "stream",
     "text": [
      "`(p \\/ q) /\\ (~p \\/ q) /\\ (p \\/ ~q) ==> ~(~q \\/ ~q)`\n",
      "CPU time (user): 0.002358\n"
     ]
    },
    {
     "data": {
      "text/plain": [
       "[]"
      ]
     },
     "metadata": {},
     "output_type": "display_data"
    }
   ],
   "source": [
    "time presolution Pelletier.p9"
   ]
  },
  {
   "cell_type": "code",
   "execution_count": 12,
   "metadata": {
    "dotnet_interactive": {
     "language": "fsharp"
    },
    "polyglot_notebook": {
     "kernelName": "fsharp"
    }
   },
   "outputs": [
    {
     "name": "stdout",
     "output_type": "stream",
     "text": [
      "`(q ==> r) /\\ (r ==> p /\\ q) /\\ (p ==> q /\\ r) ==> (p <=> q)`\n",
      "CPU time (user): 0.000207\n"
     ]
    },
    {
     "data": {
      "text/plain": [
       "[]"
      ]
     },
     "metadata": {},
     "output_type": "display_data"
    }
   ],
   "source": [
    "time presolution Pelletier.p10"
   ]
  },
  {
   "cell_type": "code",
   "execution_count": 13,
   "metadata": {
    "dotnet_interactive": {
     "language": "fsharp"
    },
    "polyglot_notebook": {
     "kernelName": "fsharp"
    }
   },
   "outputs": [
    {
     "name": "stdout",
     "output_type": "stream",
     "text": [
      "`p <=> p`\n",
      "CPU time (user): 0.000037\n"
     ]
    },
    {
     "data": {
      "text/plain": [
       "[]"
      ]
     },
     "metadata": {},
     "output_type": "display_data"
    }
   ],
   "source": [
    "time presolution Pelletier.p11"
   ]
  },
  {
   "cell_type": "code",
   "execution_count": 14,
   "metadata": {
    "dotnet_interactive": {
     "language": "fsharp"
    },
    "polyglot_notebook": {
     "kernelName": "fsharp"
    }
   },
   "outputs": [
    {
     "name": "stdout",
     "output_type": "stream",
     "text": [
      "`((p <=> q) <=> r) <=> p <=> q <=> r`\n",
      "CPU time (user): 0.002232\n"
     ]
    },
    {
     "data": {
      "text/plain": [
       "[]"
      ]
     },
     "metadata": {},
     "output_type": "display_data"
    }
   ],
   "source": [
    "time presolution Pelletier.p12"
   ]
  },
  {
   "cell_type": "code",
   "execution_count": 15,
   "metadata": {
    "dotnet_interactive": {
     "language": "fsharp"
    },
    "polyglot_notebook": {
     "kernelName": "fsharp"
    }
   },
   "outputs": [
    {
     "name": "stdout",
     "output_type": "stream",
     "text": [
      "`p \\/ q /\\ r <=> (p \\/ q) /\\ (p \\/ r)`\n",
      "CPU time (user): 0.000119\n"
     ]
    },
    {
     "data": {
      "text/plain": [
       "[]"
      ]
     },
     "metadata": {},
     "output_type": "display_data"
    }
   ],
   "source": [
    "time presolution Pelletier.p13"
   ]
  },
  {
   "cell_type": "code",
   "execution_count": 16,
   "metadata": {
    "dotnet_interactive": {
     "language": "fsharp"
    },
    "polyglot_notebook": {
     "kernelName": "fsharp"
    }
   },
   "outputs": [
    {
     "name": "stdout",
     "output_type": "stream",
     "text": [
      "`(p <=> q) <=> (q \\/ ~p) /\\ (~q \\/ p)`\n",
      "CPU time (user): 0.000095\n"
     ]
    },
    {
     "data": {
      "text/plain": [
       "[]"
      ]
     },
     "metadata": {},
     "output_type": "display_data"
    }
   ],
   "source": [
    "time presolution Pelletier.p14"
   ]
  },
  {
   "cell_type": "code",
   "execution_count": 17,
   "metadata": {
    "dotnet_interactive": {
     "language": "fsharp"
    },
    "polyglot_notebook": {
     "kernelName": "fsharp"
    }
   },
   "outputs": [
    {
     "name": "stdout",
     "output_type": "stream",
     "text": [
      "`p ==> q <=> ~p \\/ q`\n",
      "CPU time (user): 0.000049\n"
     ]
    },
    {
     "data": {
      "text/plain": [
       "[]"
      ]
     },
     "metadata": {},
     "output_type": "display_data"
    }
   ],
   "source": [
    "time presolution Pelletier.p15"
   ]
  },
  {
   "cell_type": "code",
   "execution_count": 18,
   "metadata": {
    "dotnet_interactive": {
     "language": "fsharp"
    },
    "polyglot_notebook": {
     "kernelName": "fsharp"
    }
   },
   "outputs": [
    {
     "name": "stdout",
     "output_type": "stream",
     "text": [
      "`(p ==> q) \\/ (q ==> p)`\n",
      "CPU time (user): 0.000039\n"
     ]
    },
    {
     "data": {
      "text/plain": [
       "[]"
      ]
     },
     "metadata": {},
     "output_type": "display_data"
    }
   ],
   "source": [
    "time presolution Pelletier.p16"
   ]
  },
  {
   "cell_type": "code",
   "execution_count": 19,
   "metadata": {
    "dotnet_interactive": {
     "language": "fsharp"
    },
    "polyglot_notebook": {
     "kernelName": "fsharp"
    }
   },
   "outputs": [
    {
     "name": "stdout",
     "output_type": "stream",
     "text": [
      "`p /\\ (q ==> r) ==> s <=> (~p \\/ q \\/ s) /\\ (~p \\/ ~r \\/ s)`\n",
      "CPU time (user): 0.000169\n"
     ]
    },
    {
     "data": {
      "text/plain": [
       "[]"
      ]
     },
     "metadata": {},
     "output_type": "display_data"
    }
   ],
   "source": [
    "time presolution Pelletier.p17"
   ]
  },
  {
   "cell_type": "code",
   "execution_count": 20,
   "metadata": {
    "dotnet_interactive": {
     "language": "fsharp"
    },
    "polyglot_notebook": {
     "kernelName": "fsharp"
    }
   },
   "outputs": [
    {
     "name": "stdout",
     "output_type": "stream",
     "text": [
      "`exists y. forall x. P(y) ==> P(x)`\n",
      "0 used; 2 unused.\n",
      "1 used; 1 unused.\n",
      "CPU time (user): 0.041439\n"
     ]
    },
    {
     "data": {
      "text/plain": [
       "[true]"
      ]
     },
     "metadata": {},
     "output_type": "display_data"
    }
   ],
   "source": [
    "time presolution Pelletier.p18"
   ]
  },
  {
   "cell_type": "code",
   "execution_count": 21,
   "metadata": {
    "dotnet_interactive": {
     "language": "fsharp"
    },
    "polyglot_notebook": {
     "kernelName": "fsharp"
    }
   },
   "outputs": [
    {
     "name": "stdout",
     "output_type": "stream",
     "text": [
      "`exists x. forall y z. (P(y) ==> Q(z)) ==> P(x) ==> Q(x)`\n",
      "0 used; 3 unused.\n",
      "1 used; 2 unused.\n",
      "2 used; 2 unused.\n",
      "3 used; 1 unused.\n",
      "CPU time (user): 0.043853\n"
     ]
    },
    {
     "data": {
      "text/plain": [
       "[true]"
      ]
     },
     "metadata": {},
     "output_type": "display_data"
    }
   ],
   "source": [
    "time presolution Pelletier.p19"
   ]
  },
  {
   "cell_type": "code",
   "execution_count": 22,
   "metadata": {
    "dotnet_interactive": {
     "language": "fsharp"
    },
    "polyglot_notebook": {
     "kernelName": "fsharp"
    }
   },
   "outputs": [
    {
     "name": "stdout",
     "output_type": "stream",
     "text": [
      "`(forall x y. exists z. forall w. P(x) /\\ Q(y) ==> R(z) /\\ U(w)) ==> (exists x y. P(x) /\\ Q(y)) ==> (exists z. R(z))`\n",
      "0 used; 5 unused.\n",
      "1 used; 4 unused.\n",
      "2 used; 3 unused.\n",
      "3 used; 4 unused.\n",
      "4 used; 5 unused.\n",
      "5 used; 4 unused.\n",
      "6 used; 4 unused.\n",
      "7 used; 3 unused.\n",
      "8 used; 2 unused.\n",
      "9 used; 1 unused.\n",
      "CPU time (user): 0.030036\n"
     ]
    },
    {
     "data": {
      "text/plain": [
       "[true]"
      ]
     },
     "metadata": {},
     "output_type": "display_data"
    }
   ],
   "source": [
    "time presolution Pelletier.p20"
   ]
  },
  {
   "cell_type": "code",
   "execution_count": 23,
   "metadata": {
    "dotnet_interactive": {
     "language": "fsharp"
    },
    "polyglot_notebook": {
     "kernelName": "fsharp"
    }
   },
   "outputs": [
    {
     "name": "stdout",
     "output_type": "stream",
     "text": [
      "`(exists x. P ==> Q(x)) /\\ (exists x. Q(x) ==> P) ==> (exists x. P <=> Q(x))`\n",
      "0 used; 3 unused.\n",
      "1 used; 2 unused.\n",
      "2 used; 1 unused.\n",
      "3 used; 2 unused.\n",
      "0 used; 4 unused.\n",
      "1 used; 3 unused.\n",
      "2 used; 2 unused.\n",
      "3 used; 3 unused.\n",
      "4 used; 3 unused.\n",
      "5 used; 2 unused.\n",
      "0 used; 3 unused.\n",
      "1 used; 2 unused.\n",
      "2 used; 2 unused.\n",
      "3 used; 2 unused.\n",
      "CPU time (user): 0.004489\n"
     ]
    },
    {
     "data": {
      "text/plain": [
       "[true; true; true]"
      ]
     },
     "metadata": {},
     "output_type": "display_data"
    }
   ],
   "source": [
    "time presolution Pelletier.p21"
   ]
  },
  {
   "cell_type": "code",
   "execution_count": 24,
   "metadata": {
    "dotnet_interactive": {
     "language": "fsharp"
    },
    "polyglot_notebook": {
     "kernelName": "fsharp"
    }
   },
   "outputs": [
    {
     "name": "stdout",
     "output_type": "stream",
     "text": [
      "`(forall x. P <=> Q(x)) ==> (P <=> (forall x. Q(x)))`\n",
      "0 used; 3 unused.\n",
      "1 used; 2 unused.\n",
      "2 used; 2 unused.\n",
      "3 used; 1 unused.\n",
      "0 used; 3 unused.\n",
      "1 used; 2 unused.\n",
      "2 used; 2 unused.\n",
      "3 used; 1 unused.\n",
      "CPU time (user): 0.016825\n"
     ]
    },
    {
     "data": {
      "text/plain": [
       "[true; true]"
      ]
     },
     "metadata": {},
     "output_type": "display_data"
    }
   ],
   "source": [
    "time presolution Pelletier.p22"
   ]
  },
  {
   "cell_type": "code",
   "execution_count": 25,
   "metadata": {
    "dotnet_interactive": {
     "language": "fsharp"
    },
    "polyglot_notebook": {
     "kernelName": "fsharp"
    }
   },
   "outputs": [
    {
     "name": "stdout",
     "output_type": "stream",
     "text": [
      "`(forall x. P \\/ Q(x)) <=> P \\/ (forall x. Q(x))`\n",
      "0 used; 3 unused.\n",
      "1 used; 2 unused.\n",
      "2 used; 2 unused.\n",
      "3 used; 2 unused.\n",
      "0 used; 3 unused.\n",
      "1 used; 2 unused.\n",
      "2 used; 1 unused.\n",
      "CPU time (user): 0.001711\n"
     ]
    },
    {
     "data": {
      "text/plain": [
       "[true; true]"
      ]
     },
     "metadata": {},
     "output_type": "display_data"
    }
   ],
   "source": [
    "time presolution Pelletier.p23"
   ]
  },
  {
   "cell_type": "code",
   "execution_count": 26,
   "metadata": {
    "dotnet_interactive": {
     "language": "fsharp"
    },
    "polyglot_notebook": {
     "kernelName": "fsharp"
    }
   },
   "outputs": [
    {
     "name": "stdout",
     "output_type": "stream",
     "text": [
      "`~(exists x. U(x) /\\ Q(x)) /\\ (forall x. P(x) ==> Q(x) \\/ R(x)) /\\ ~(exists x. P(x) ==> (exists x. Q(x))) /\\ (forall x. Q(x) /\\ R(x) ==> U(x)) ==> (exists x. P(x) /\\ R(x))`\n",
      "0 used; 6 unused.\n",
      "1 used; 5 unused.\n",
      "2 used; 5 unused.\n",
      "3 used; 4 unused.\n",
      "4 used; 4 unused.\n",
      "5 used; 3 unused.\n",
      "6 used; 2 unused.\n",
      "7 used; 3 unused.\n",
      "8 used; 2 unused.\n",
      "CPU time (user): 0.019467\n"
     ]
    },
    {
     "data": {
      "text/plain": [
       "[true]"
      ]
     },
     "metadata": {},
     "output_type": "display_data"
    }
   ],
   "source": [
    "time presolution Pelletier.p24"
   ]
  },
  {
   "cell_type": "code",
   "execution_count": 27,
   "metadata": {
    "dotnet_interactive": {
     "language": "fsharp"
    },
    "polyglot_notebook": {
     "kernelName": "fsharp"
    }
   },
   "outputs": [
    {
     "name": "stdout",
     "output_type": "stream",
     "text": [
      "`(exists x. P(x)) /\\ (forall x. U(x) ==> ~G(x) /\\ R(x)) /\\ (forall x. P(x) ==> G(x) /\\ U(x)) /\\ ((forall x. P(x) ==> Q(x)) \\/ (exists x. Q(x) /\\ P(x))) ==> (exists x. Q(x) /\\ P(x))`\n",
      "0 used; 8 unused.\n",
      "1 used; 7 unused.\n",
      "2 used; 7 unused.\n",
      "3 used; 7 unused.\n",
      "4 used; 6 unused.\n",
      "5 used; 5 unused.\n",
      "6 used; 6 unused.\n",
      "7 used; 5 unused.\n",
      "8 used; 7 unused.\n",
      "9 used; 7 unused.\n",
      "10 used; 7 unused.\n",
      "11 used; 8 unused.\n",
      "12 used; 9 unused.\n",
      "0 used; 7 unused.\n",
      "1 used; 6 unused.\n",
      "2 used; 6 unused.\n",
      "3 used; 6 unused.\n",
      "4 used; 5 unused.\n",
      "5 used; 5 unused.\n",
      "6 used; 4 unused.\n",
      "7 used; 4 unused.\n",
      "8 used; 4 unused.\n",
      "9 used; 4 unused.\n",
      "10 used; 5 unused.\n",
      "CPU time (user): 0.060346\n"
     ]
    },
    {
     "data": {
      "text/plain": [
       "[true; true]"
      ]
     },
     "metadata": {},
     "output_type": "display_data"
    }
   ],
   "source": [
    "time presolution Pelletier.p25"
   ]
  },
  {
   "cell_type": "code",
   "execution_count": 28,
   "metadata": {
    "dotnet_interactive": {
     "language": "fsharp"
    },
    "polyglot_notebook": {
     "kernelName": "fsharp"
    }
   },
   "outputs": [
    {
     "name": "stdout",
     "output_type": "stream",
     "text": [
      "`((exists x. P(x)) <=> (exists x. Q(x))) /\\ (forall x y. P(x) /\\ Q(y) ==> (R(x) <=> U(y))) ==> ((forall x. P(x) ==> R(x)) <=> (forall x. Q(x) ==> U(x)))`\n",
      "0 used; 7 unused.\n",
      "1 used; 6 unused.\n",
      "2 used; 5 unused.\n",
      "3 used; 4 unused.\n",
      "4 used; 6 unused.\n",
      "5 used; 6 unused.\n",
      "6 used; 6 unused.\n",
      "7 used; 5 unused.\n",
      "8 used; 6 unused.\n",
      "9 used; 5 unused.\n",
      "10 used; 4 unused.\n",
      "11 used; 6 unused.\n",
      "12 used; 6 unused.\n",
      "13 used; 5 unused.\n",
      "14 used; 4 unused.\n",
      "0 used; 6 unused.\n",
      "1 used; 5 unused.\n",
      "2 used; 4 unused.\n",
      "3 used; 3 unused.\n",
      "4 used; 3 unused.\n",
      "5 used; 5 unused.\n",
      "6 used; 4 unused.\n",
      "7 used; 4 unused.\n",
      "8 used; 5 unused.\n",
      "9 used; 6 unused.\n",
      "10 used; 5 unused.\n",
      "11 used; 4 unused.\n",
      "0 used; 4 unused.\n",
      "1 used; 3 unused.\n",
      "0 used; 4 unused.\n",
      "1 used; 3 unused.\n",
      "2 used; 2 unused.\n",
      "CPU time (user): 0.113145\n"
     ]
    },
    {
     "data": {
      "text/plain": [
       "[true; true; true; true]"
      ]
     },
     "metadata": {},
     "output_type": "display_data"
    }
   ],
   "source": [
    "time presolution Pelletier.p26"
   ]
  },
  {
   "cell_type": "code",
   "execution_count": 29,
   "metadata": {
    "dotnet_interactive": {
     "language": "fsharp"
    },
    "polyglot_notebook": {
     "kernelName": "fsharp"
    }
   },
   "outputs": [
    {
     "name": "stdout",
     "output_type": "stream",
     "text": [
      "`(exists x. P(x) /\\ ~Q(x)) /\\ (forall x. P(x) ==> R(x)) /\\ (forall x. U(x) /\\ V(x) ==> P(x)) /\\ (exists x. R(x) /\\ ~Q(x)) ==> (forall x. U(x) ==> ~R(x)) ==> (forall x. U(x) ==> ~V(x))`\n",
      "0 used; 9 unused.\n",
      "1 used; 8 unused.\n",
      "2 used; 7 unused.\n",
      "3 used; 7 unused.\n",
      "4 used; 6 unused.\n",
      "5 used; 6 unused.\n",
      "6 used; 6 unused.\n",
      "7 used; 5 unused.\n",
      "8 used; 4 unused.\n",
      "9 used; 5 unused.\n",
      "10 used; 5 unused.\n",
      "11 used; 4 unused.\n",
      "12 used; 4 unused.\n",
      "13 used; 3 unused.\n",
      "14 used; 2 unused.\n",
      "15 used; 1 unused.\n",
      "CPU time (user): 0.005256\n"
     ]
    },
    {
     "data": {
      "text/plain": [
       "[true]"
      ]
     },
     "metadata": {},
     "output_type": "display_data"
    }
   ],
   "source": [
    "time presolution Pelletier.p27"
   ]
  },
  {
   "cell_type": "code",
   "execution_count": 30,
   "metadata": {
    "dotnet_interactive": {
     "language": "fsharp"
    },
    "polyglot_notebook": {
     "kernelName": "fsharp"
    }
   },
   "outputs": [
    {
     "name": "stdout",
     "output_type": "stream",
     "text": [
      "`(forall x. P(x) ==> (forall x. Q(x))) /\\ ((forall x. Q(x) \\/ R(x)) ==> (exists x. Q(x) /\\ R(x))) /\\ ((exists x. R(x)) ==> (forall x. L(x) ==> M(x))) ==> (forall x. P(x) /\\ L(x) ==> M(x))`\n",
      "0 used; 7 unused.\n",
      "1 used; 6 unused.\n",
      "2 used; 5 unused.\n",
      "3 used; 4 unused.\n",
      "4 used; 3 unused.\n",
      "5 used; 2 unused.\n",
      "6 used; 1 unused.\n",
      "0 used; 7 unused.\n",
      "1 used; 6 unused.\n",
      "2 used; 6 unused.\n",
      "3 used; 5 unused.\n",
      "4 used; 4 unused.\n",
      "5 used; 3 unused.\n",
      "6 used; 2 unused.\n",
      "7 used; 1 unused.\n",
      "0 used; 7 unused.\n",
      "1 used; 6 unused.\n",
      "2 used; 5 unused.\n",
      "3 used; 5 unused.\n",
      "4 used; 4 unused.\n",
      "5 used; 3 unused.\n",
      "6 used; 2 unused.\n",
      "7 used; 1 unused.\n",
      "0 used; 7 unused.\n",
      "1 used; 6 unused.\n",
      "2 used; 6 unused.\n",
      "3 used; 5 unused.\n",
      "4 used; 5 unused.\n",
      "5 used; 4 unused.\n",
      "6 used; 3 unused.\n",
      "7 used; 2 unused.\n",
      "CPU time (user): 0.047211\n"
     ]
    },
    {
     "data": {
      "text/plain": [
       "[true; true; true; true]"
      ]
     },
     "metadata": {},
     "output_type": "display_data"
    }
   ],
   "source": [
    "time presolution Pelletier.p28"
   ]
  }
 ],
 "metadata": {
  "kernelspec": {
   "display_name": ".NET (C#)",
   "language": "C#",
   "name": ".net-csharp"
  },
  "language_info": {
   "name": "polyglot-notebook"
  },
  "polyglot_notebook": {
   "kernelInfo": {
    "defaultKernelName": "csharp",
    "items": [
     {
      "aliases": [],
      "name": "csharp"
     },
     {
      "aliases": [],
      "languageName": "fsharp",
      "name": "fsharp"
     }
    ]
   }
  }
 },
 "nbformat": 4,
 "nbformat_minor": 2
}
