
{
 "cells": [
  {
   "cell_type": "markdown",
   "metadata": {},
   
   "source": [
    "# Automated Reasoning in First Order Logic\n",
    "\n",
    "This is a fork of the repository [https://github.com/jack-pappas/fsharp-logic-examples,](https://github.com/jack-pappas/fsharp-logic-examples,) which in turn is the porting in F# of the code from **John Harrison\u0027s \"[Handbook of Practical Logic and Automated Reasoning](https://www.cl.cam.ac.uk/~jrh13/atp/index.html)\"**.\n",
    "\n",
    "![nuget package workflow](https://github.com/domasin/FolAutomReas/actions/workflows/publish.yml/badge.svg)\n",
    "\n",
    "## Fork main purposes\n",
    "\n",
    "* to have a .Net Core version of the solution\n",
    "\n",
    "* to have a [nuget package](https://www.nuget.org/packages/FolAutomReas)\n",
    "\n",
    "* to create an [api documentation](https://domasin.github.io/FolAutomReas/reference/index.html)\n",
    "\n",
    "## Fork main changes\n",
    "\n",
    "* The conversion to .NET Core itself.\n",
    "  \n",
    "\n",
    "* The `thm` type has been changed from a simple type abbreviation of `formula\u003cfol\u003e` to a discriminated union with a single private case `Theorem of formula\u003cfol\u003e` to ensure that it is impossible to create new theorems without going through the inference rules defined and thus introduce theorems inconsistent with expressions of the type\n",
    "  \n",
    "\n",
    "          let t : thm = False\n",
    "  \n",
    "\n",
    "* In conjunction with the above change, the `ProofOperators` module in `lcf` has been renamed to `ProofSystem` like the original OCaml module.\n",
    "  \n",
    "\n",
    "* For better understanding of the source code and more modular documentation, the lib file has been split into a series of modules organized together in the `FOL.lib`  (to maintain the reference to the original file) namespace.\n",
    "  \n",
    "\n",
    "* The name of the namespace has been changed to FolAutomReas (Automated Reasoning in First Order Logic).\n",
    "  \n",
    "\n"
   ]
  }
 ],
 "metadata": {
  "kernelspec": {
   "display_name": ".NET (F#)",
   "language": "F#",
   "name": ".net-fsharp"
  },
  "language_info": {
   "file_extension": ".fs",
   "mimetype": "text/x-fsharp",
   "name": "polyglot-notebook",
   "pygments_lexer": "fsharp"
  },
  "polyglot_notebook": {
   "kernelInfo": {
    "defaultKernelName": "fsharp",
    "items": [
     {
      "aliases": [],
      "languageName": "fsharp",
      "name": "fsharp"
     }
    ]
   }
  }
 },
 "nbformat": 4,
 "nbformat_minor": 2
}

