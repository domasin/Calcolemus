{
 "cells": [
  {
   "cell_type": "markdown",
   "metadata": {},
   "source": [
    "# Dimostrazione automatica al primo ordine"
   ]
  },
  {
   "cell_type": "code",
   "execution_count": 1,
   "metadata": {
    "dotnet_interactive": {
     "language": "fsharp"
    },
    "polyglot_notebook": {
     "kernelName": "fsharp"
    }
   },
   "outputs": [],
   "source": [
    "#load \"../../localInit.fsx\"\n",
    "\n",
    "open Calculemus.Lib.Function\n",
    "open Calculemus.Lib.Set\n",
    "\n",
    "open Calculemus.Formulas\n",
    "open Calculemus.Fol\n",
    "open Calculemus.Skolem\n",
    "open Calculemus.Herbrand\n",
    "open Calculemus.Lib\n",
    "open Calculemus.Prop\n",
    "open Calculemus.Pelletier"
   ]
  },
  {
   "cell_type": "markdown",
   "metadata": {},
   "source": [
    "Nell'Handbook viene mostrato come la combinazione del teorema di Herbrand (ivi 3.23):\n",
    "\n",
    "> Una formula priva di quantificatori $p$ è soddisfacibile al primo ordine \n",
    "> sse l’insieme di **tutte** le sue istanze ground è soddisfacibile (dal \n",
    "> punto di vista proposizionale).\n",
    "\n",
    "più il teorema di compattezza (ivi 2.13) per la logica proposizionale:\n",
    "\n",
    "> Per ogni insieme $\\Gamma$ di formule proposizionali, se **ciascun** \n",
    "> sotto insieme **finito** $\\Delta \\subseteq \\Gamma$ è soddisfacibile, \n",
    "> allora lo stesso $\\Gamma$ è soddisfacibile.\n",
    "\n",
    "porta al seguente risultato lì enunciato come Corollario 3.26:\n",
    "\n",
    "> Una formula priva di quantificatori $p$ è insoddisfacibile al primo ordine\n",
    "> sse **qualche** insieme **finito** di istanze ground è (proposizionalmente) \n",
    "> insoddisfacibile.\n",
    "\n",
    "Questo risultato garantisce che una procedura in grado di generare per una formula $p$ insiemi sempre più grandi di istanze ground, e a condizione che ogni istanza ground della formula prima o poi compaia nell'enumerazione e che la formula stessa sia insoddisfacibile, prima o poi raggiungerà un insieme finito insoddisfacibile di formule proposizionali.\n",
    "\n",
    "Questa impostazione da origine a una serie di procedure di semi-decisione circa l'insoddisfacibilità di una formula al primo ordine, perché, anche se tale formula contenesse dei quantificatori, sarebbe possibile fornirne una equi-soddisfacibile per mezzo della Skolemizzazione. D'altra parte, si parla di procedure di **semi-decisione** perché per una formula $p$ che invece fosse soddisfacibile questo processo potrebbe non terminare mai.\n",
    "\n",
    "Si noti che avere procedure di semi-decisione circa l'insoddisfacibilità di una formula equivale ad averne anche per la la validità, perché una formula è valida se la sua negazione è insoddisfacibile."
   ]
  },
  {
   "cell_type": "markdown",
   "metadata": {},
   "source": [
    "## Procedura di Gilmore\n",
    "\n",
    "La procedura di Gilmore, partendo da una formula priva di quantificatori (espressa in dnf), genera insiemi sempre più grandi di istanze ground sotto forma di $m$-uple di termini ground dove $m$ è il numero di variabili (ovviamente libere) nella formula. Per garantire che qualsiasi istanza ground della formula prima o poi venga generata dalla procedura, un approccio utilizzato è quello di generare prima tutte le $m$-uple che non coinvolgono simboli di funzione (cioè solo combinazioni di termini costanti), quindi tutte quelle che coinvolgono un'applicazione di funzione, ($f(c);g(c)$) poi due ($f(f(c));f(g(c));\\ldots$), tre, ecc.\n",
    "\n",
    "Supponiamo di voler verificare la validità della formula $\\exists x.\\ \\forall y.\\ P(x) \\Rightarrow P(y)$ con questa procedura. \n",
    "\n",
    "1. Dal momento che si tratta di una procedura per la verifica dell'insoddisfacibilità si parte dalla negazione della formula (per altro chiusa universalmente nel caso contenesse variabili libere) e inoltre, dal momento che occorre una formula priva di quantificatori, la negazione viene posta in forma normale di skolem con anche i quantificatori universali rimossi:"
   ]
  },
  {
   "cell_type": "code",
   "execution_count": 2,
   "metadata": {
    "dotnet_interactive": {
     "language": "fsharp"
    },
    "polyglot_notebook": {
     "kernelName": "fsharp"
    }
   },
   "outputs": [
    {
     "data": {
      "text/plain": [
       "<<P(x) /\\ ~P(f_y(x))>>"
      ]
     },
     "metadata": {},
     "output_type": "display_data"
    }
   ],
   "source": [
    "let fm = !!\"exists x. forall y. P(x) ==> P(y)\"\n",
    "let sfm = skolemize (Not (generalize fm))\n",
    "sfm"
   ]
  },
  {
   "cell_type": "markdown",
   "metadata": {},
   "source": [
    "2. se ne estraggono le variabili più le costanti e le funzioni per la sua base di Herbrand:"
   ]
  },
  {
   "cell_type": "code",
   "execution_count": 3,
   "metadata": {
    "dotnet_interactive": {
     "language": "fsharp"
    },
    "polyglot_notebook": {
     "kernelName": "fsharp"
    }
   },
   "outputs": [
    {
     "name": "stdout",
     "output_type": "stream",
     "text": [
      "[x]\n",
      "[(c, 0)]\n",
      "[(f_y, 1)]\n"
     ]
    }
   ],
   "source": [
    "let fvs = fv sfm\n",
    "let consts, funcs = herbfuns sfm\n",
    "\n",
    "printfn \"%s\" (fvs.ToString())\n",
    "printfn \"%s\" (consts.ToString())\n",
    "printfn \"%s\" (funcs.ToString())"
   ]
  },
  {
   "cell_type": "markdown",
   "metadata": {},
   "source": [
    "3. le istanze ground saranno generate dalla sua DNF in forma di insiemi di letterali:"
   ]
  },
  {
   "cell_type": "code",
   "execution_count": 4,
   "metadata": {
    "dotnet_interactive": {
     "language": "fsharp"
    },
    "polyglot_notebook": {
     "kernelName": "fsharp"
    }
   },
   "outputs": [
    {
     "data": {
      "text/plain": [
       "[[<<P(x)>>;<<~P(f_y(x))>>]]"
      ]
     },
     "metadata": {},
     "output_type": "display_data"
    }
   ],
   "source": [
    "let dnf = simpdnf sfm\n",
    "dnf"
   ]
  },
  {
   "cell_type": "markdown",
   "metadata": {},
   "source": [
    "4. si iniziano quindi a generare le $m$-uple (in questo caso $m=1$ dal momento che c'è una sola variabile) di istanze ground di sole costanti:"
   ]
  },
  {
   "cell_type": "code",
   "execution_count": 5,
   "metadata": {
    "dotnet_interactive": {
     "language": "fsharp"
    },
    "polyglot_notebook": {
     "kernelName": "fsharp"
    }
   },
   "outputs": [
    {
     "data": {
      "text/plain": [
       "[[<<P(c)>>;<<~P(f_y(c))>>]]"
      ]
     },
     "metadata": {},
     "output_type": "display_data"
    }
   ],
   "source": [
    "let cntms = image (fun (c, _) -> Fn (c, [])) consts\n",
    "let newtups = groundtuples cntms funcs 0 (List.length fvs)\n",
    "\n",
    "let fl' = (distrib (image (image (subst (fpf fvs (newtups |> List.head)))) dnf) [[]])\n",
    "\n",
    "fl'"
   ]
  },
  {
   "cell_type": "markdown",
   "metadata": {},
   "source": [
    "5. si testa se sono insoddisfacibili:"
   ]
  },
  {
   "cell_type": "code",
   "execution_count": 6,
   "metadata": {
    "dotnet_interactive": {
     "language": "fsharp"
    },
    "polyglot_notebook": {
     "kernelName": "fsharp"
    }
   },
   "outputs": [
    {
     "data": {
      "text/html": [
       "<div class=\"dni-plaintext\"><pre>False</pre></div><style>\r\n",
       ".dni-code-hint {\r\n",
       "    font-style: italic;\r\n",
       "    overflow: hidden;\r\n",
       "    white-space: nowrap;\r\n",
       "}\r\n",
       ".dni-treeview {\r\n",
       "    white-space: nowrap;\r\n",
       "}\r\n",
       ".dni-treeview td {\r\n",
       "    vertical-align: top;\r\n",
       "    text-align: start;\r\n",
       "}\r\n",
       "details.dni-treeview {\r\n",
       "    padding-left: 1em;\r\n",
       "}\r\n",
       "table td {\r\n",
       "    text-align: start;\r\n",
       "}\r\n",
       "table tr { \r\n",
       "    vertical-align: top; \r\n",
       "    margin: 0em 0px;\r\n",
       "}\r\n",
       "table tr td pre \r\n",
       "{ \r\n",
       "    vertical-align: top !important; \r\n",
       "    margin: 0em 0px !important;\r\n",
       "} \r\n",
       "table th {\r\n",
       "    text-align: start;\r\n",
       "}\r\n",
       "</style>"
      ]
     },
     "metadata": {},
     "output_type": "display_data"
    }
   ],
   "source": [
    "fl'\n",
    "|> List.filter (non trivial)\n",
    "|> (<>) []\n",
    "|> not"
   ]
  },
  {
   "cell_type": "markdown",
   "metadata": {},
   "source": [
    "6. dal momento che non lo sono, si generano le $m$-uple successive:"
   ]
  },
  {
   "cell_type": "code",
   "execution_count": 7,
   "metadata": {
    "dotnet_interactive": {
     "language": "fsharp"
    },
    "polyglot_notebook": {
     "kernelName": "fsharp"
    }
   },
   "outputs": [
    {
     "data": {
      "text/plain": [
       "[[<<P(f_y(c))>>;<<~P(f_y(f_y(c)))>>]]"
      ]
     },
     "metadata": {},
     "output_type": "display_data"
    }
   ],
   "source": [
    "let newtups' = groundtuples cntms funcs 1 (List.length fvs)\n",
    "(distrib (image (image (subst (fpf fvs (newtups' |> List.head)))) dnf) [[]])"
   ]
  },
  {
   "cell_type": "markdown",
   "metadata": {},
   "source": [
    "(nella procedura le nuove istanze generate sono aggiunte immediatamente alle precedenti)"
   ]
  },
  {
   "cell_type": "code",
   "execution_count": 8,
   "metadata": {
    "dotnet_interactive": {
     "language": "fsharp"
    },
    "polyglot_notebook": {
     "kernelName": "fsharp"
    }
   },
   "outputs": [
    {
     "data": {
      "text/plain": [
       "[[<<P(c)>>;<<P(f_y(c))>>;<<~P(f_y(c))>>;<<~P(f_y(f_y(c)))>>]]"
      ]
     },
     "metadata": {},
     "output_type": "display_data"
    }
   ],
   "source": [
    "let fl'' = (distrib (image (image (subst (fpf fvs (newtups' |> List.head)))) dnf) fl')\n",
    "fl'' "
   ]
  },
  {
   "cell_type": "markdown",
   "metadata": {},
   "source": [
    "7. si testa quindi per l'insoddisfacibilità dell'insieme di istanze ground generate:"
   ]
  },
  {
   "cell_type": "code",
   "execution_count": 9,
   "metadata": {
    "dotnet_interactive": {
     "language": "fsharp"
    },
    "polyglot_notebook": {
     "kernelName": "fsharp"
    }
   },
   "outputs": [
    {
     "data": {
      "text/html": [
       "<div class=\"dni-plaintext\"><pre>True</pre></div><style>\r\n",
       ".dni-code-hint {\r\n",
       "    font-style: italic;\r\n",
       "    overflow: hidden;\r\n",
       "    white-space: nowrap;\r\n",
       "}\r\n",
       ".dni-treeview {\r\n",
       "    white-space: nowrap;\r\n",
       "}\r\n",
       ".dni-treeview td {\r\n",
       "    vertical-align: top;\r\n",
       "    text-align: start;\r\n",
       "}\r\n",
       "details.dni-treeview {\r\n",
       "    padding-left: 1em;\r\n",
       "}\r\n",
       "table td {\r\n",
       "    text-align: start;\r\n",
       "}\r\n",
       "table tr { \r\n",
       "    vertical-align: top; \r\n",
       "    margin: 0em 0px;\r\n",
       "}\r\n",
       "table tr td pre \r\n",
       "{ \r\n",
       "    vertical-align: top !important; \r\n",
       "    margin: 0em 0px !important;\r\n",
       "} \r\n",
       "table th {\r\n",
       "    text-align: start;\r\n",
       "}\r\n",
       "</style>"
      ]
     },
     "metadata": {},
     "output_type": "display_data"
    }
   ],
   "source": [
    "fl''\n",
    "|> List.filter (non trivial)\n",
    "|> (<>) []\n",
    "|> not"
   ]
  },
  {
   "cell_type": "markdown",
   "metadata": {},
   "source": [
    "Dal momento che le due $m$-uple generate contengono due istanze complementari (`<<P(f_y(c))>>` e `<<~P(f_y(c))>>`), la procedura termina, indicando che sono state usate due istanze e che la formula è valida come sostenuto:"
   ]
  },
  {
   "cell_type": "code",
   "execution_count": 10,
   "metadata": {
    "dotnet_interactive": {
     "language": "fsharp"
    },
    "polyglot_notebook": {
     "kernelName": "fsharp"
    }
   },
   "outputs": [
    {
     "name": "stdout",
     "output_type": "stream",
     "text": [
      "0 ground instances tried; 1 items in list.\n",
      "0 ground instances tried; 1 items in list.\n",
      "1 ground instances tried; 1 items in list.\n",
      "1 ground instances tried; 1 items in list.\n"
     ]
    },
    {
     "data": {
      "text/html": [
       "<div class=\"dni-plaintext\"><pre>2</pre></div><style>\r\n",
       ".dni-code-hint {\r\n",
       "    font-style: italic;\r\n",
       "    overflow: hidden;\r\n",
       "    white-space: nowrap;\r\n",
       "}\r\n",
       ".dni-treeview {\r\n",
       "    white-space: nowrap;\r\n",
       "}\r\n",
       ".dni-treeview td {\r\n",
       "    vertical-align: top;\r\n",
       "    text-align: start;\r\n",
       "}\r\n",
       "details.dni-treeview {\r\n",
       "    padding-left: 1em;\r\n",
       "}\r\n",
       "table td {\r\n",
       "    text-align: start;\r\n",
       "}\r\n",
       "table tr { \r\n",
       "    vertical-align: top; \r\n",
       "    margin: 0em 0px;\r\n",
       "}\r\n",
       "table tr td pre \r\n",
       "{ \r\n",
       "    vertical-align: top !important; \r\n",
       "    margin: 0em 0px !important;\r\n",
       "} \r\n",
       "table th {\r\n",
       "    text-align: start;\r\n",
       "}\r\n",
       "</style>"
      ]
     },
     "metadata": {},
     "output_type": "display_data"
    }
   ],
   "source": [
    "gilmore fm"
   ]
  }
 ],
 "metadata": {
  "kernelspec": {
   "display_name": ".NET (C#)",
   "language": "C#",
   "name": ".net-csharp"
  },
  "language_info": {
   "name": "polyglot-notebook"
  },
  "polyglot_notebook": {
   "kernelInfo": {
    "defaultKernelName": "csharp",
    "items": [
     {
      "aliases": [],
      "name": "csharp"
     },
     {
      "aliases": [],
      "languageName": "fsharp",
      "name": "fsharp"
     }
    ]
   }
  }
 },
 "nbformat": 4,
 "nbformat_minor": 2
}
