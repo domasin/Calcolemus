{
 "cells": [
  {
   "cell_type": "markdown",
   "metadata": {},
   "source": [
    "# Dimostrazione automatica al primo ordine"
   ]
  },
  {
   "cell_type": "code",
   "execution_count": 1,
   "metadata": {
    "dotnet_interactive": {
     "language": "fsharp"
    },
    "polyglot_notebook": {
     "kernelName": "fsharp"
    }
   },
   "outputs": [],
   "source": [
    "#load \"../../localInit.fsx\"\n",
    "\n",
    "open FolAutomReas.Formulas\n",
    "open FolAutomReas.Fol\n",
    "open FolAutomReas.Skolem\n",
    "open FolAutomReas.Herbrand\n",
    "open FolAutomReas.Lib\n",
    "open FolAutomReas.Prop\n",
    "open FolAutomReas.Pelletier"
   ]
  },
  {
   "cell_type": "markdown",
   "metadata": {},
   "source": [
    "Nell'Handbook viene mostrato come la combinazione del teorema di Herbrand (ivi 3.23):\n",
    "\n",
    "> Una formula priva di quantificatori $p$ è soddisfacibile al primo ordine \n",
    "> sse l’insieme di **tutte** le sue istanze ground è soddisfacibile (dal \n",
    "> punto di vista proposizionale).\n",
    "\n",
    "più il teorema di compattezza (ivi 2.13) per la logica proposizionale:\n",
    "\n",
    "> Per ogni insieme $\\Gamma$ di formule proposizionali, se **ciascun** \n",
    "> sotto insieme **finito** $\\Delta \\subseteq \\Gamma$ è soddisfacibile, \n",
    "> allora lo stesso Γ è soddisfacibile.\n",
    "\n",
    "porta al seguente risultato ivi enunciato come Corollario 3.26:\n",
    "\n",
    "> Una formula priva di quantificatori $p$ è insoddisfacibile al primo ordine\n",
    "> sse **qualche** insieme **finito** di istanze ground è (proposizionalmente) \n",
    "> insoddisfacibile.\n",
    "\n",
    "Questo risultato garantisce che una procedura in grado di generare per una formula $p$ insiemi sempre più grandi di istanze ground, e a condizione che ogni istanza ground della formula prima o poi compaia nell'enumerazione e che la formula stessa sia insoddisfacibile, prima o poi raggiungerà un insieme finito insoddisfacibile di formule proposizionali.\n",
    "\n",
    "Questa impostazione da origine a una serie di procedure di semi-decisione circa l'insoddisfacibilità di una formula al primo ordine, perché, anche se tale formula contenesse dei quantificatori, sarebbe possibile fornirne una equi-soddisfacibile per mezzo della Skolemizzazione. D'altra parte, si parla di procedure di **semi-decisione** perché per una formula $p$ che invece fosse soddisfacibile questo processo potrebbe non terminare mai.\n",
    "\n",
    "Si noti che avere procedure di semi-decisione circa l'insoddisfacibilità di una formula equivale ad averne anche per la la validità, perché una formula è valida se la sua negazione è insoddisfacibile."
   ]
  },
  {
   "cell_type": "markdown",
   "metadata": {},
   "source": [
    "## Skolemizzazione\n",
    "\n",
    "Data una qualsiasi formula al primo ordine se ne può fornire una equi-soddisfacibile priva di quantificatori attraverso la funzione `skolemize` che \n",
    "\n",
    "* esegue una trasformazione in forma normale prenessa;\n",
    "* sostituisce i quantificatori esistenziali con funzioni di skolem;\n",
    "* elimina tutti i quantificatori universali perché la semantica presuppone già una quantificazione universale implicita.\n",
    "\n",
    "Per esempio:"
   ]
  },
  {
   "cell_type": "code",
   "execution_count": 2,
   "metadata": {
    "dotnet_interactive": {
     "language": "fsharp"
    },
    "polyglot_notebook": {
     "kernelName": "fsharp"
    }
   },
   "outputs": [
    {
     "data": {
      "text/plain": [
       "<<~(exists x. forall y. P(x) ==> P(y))>>"
      ]
     },
     "metadata": {},
     "output_type": "display_data"
    },
    {
     "data": {
      "text/plain": [
       "<<P(x) /\\ ~P(f_y(x))>>"
      ]
     },
     "metadata": {},
     "output_type": "display_data"
    }
   ],
   "source": [
    "let fm = !!\"~ (exists x. forall y. P(x) ==> P(y))\"\n",
    "let sfm = skolemize fm\n",
    "\n",
    "display(fm)\n",
    "display(sfm)"
   ]
  },
  {
   "cell_type": "markdown",
   "metadata": {},
   "source": [
    "## Procedura di Gilmore\n",
    "\n",
    "La procedura di Gilmore, partendo da una formula priva di quantificatori (espressa in dnf), genera insiemi sempre più grandi di istanze ground sotto forma di $m$-uple di termini ground dove $m$ è il numero di variabili (ovviamente libere) nella formula. Per garantire che qualsiasi istanza ground della formula prima o poi venga generata dalla procedura, un approccio utilizzato è quello di generare prima tutte le $m$-uple che coinvolgono solo simboli di funzione zero-ari (le costanti), poi quelli un-ari, poi i bin-ari, e così via...\n",
    "\n",
    "Vediamo come questa procedura dimostri l'insoddisfacibilità della formula `fm` di sopra.\n",
    "\n",
    "1. si parte dalla sua equi-soddisfacibile skolemizzata (e della dnf di questa si genereranno tutte le istanze ground):"
   ]
  },
  {
   "cell_type": "code",
   "execution_count": 8,
   "metadata": {
    "dotnet_interactive": {
     "language": "fsharp"
    },
    "polyglot_notebook": {
     "kernelName": "fsharp"
    }
   },
   "outputs": [
    {
     "data": {
      "text/plain": [
       "[[<<P(x)>>;<<~P(f_y(x))>>]]"
      ]
     },
     "metadata": {},
     "output_type": "display_data"
    }
   ],
   "source": [
    "let dnf = simpdnf sfm\n",
    "dnf"
   ]
  },
  {
   "cell_type": "markdown",
   "metadata": {},
   "source": [
    "2. se ne estraggono le variabili, le costanti e le funzioni:"
   ]
  },
  {
   "cell_type": "code",
   "execution_count": 9,
   "metadata": {
    "dotnet_interactive": {
     "language": "fsharp"
    },
    "polyglot_notebook": {
     "kernelName": "fsharp"
    }
   },
   "outputs": [
    {
     "name": "stdout",
     "output_type": "stream",
     "text": [
      "[x]\n",
      "[(c, 0)]\n",
      "[(f_y, 1)]\n"
     ]
    }
   ],
   "source": [
    "let fvs = fv sfm\n",
    "let consts, funcs = herbfuns sfm\n",
    "\n",
    "printfn \"%s\" (fvs.ToString())\n",
    "printfn \"%s\" (consts.ToString())\n",
    "printfn \"%s\" (funcs.ToString())"
   ]
  },
  {
   "cell_type": "markdown",
   "metadata": {},
   "source": [
    "3. si iniziano a generare le $m$-uple di istanze ground di sole costanti:"
   ]
  },
  {
   "cell_type": "code",
   "execution_count": 10,
   "metadata": {
    "dotnet_interactive": {
     "language": "fsharp"
    },
    "polyglot_notebook": {
     "kernelName": "fsharp"
    }
   },
   "outputs": [
    {
     "data": {
      "text/plain": [
       "[[<<P(c)>>;<<~P(f_y(c))>>]]"
      ]
     },
     "metadata": {},
     "output_type": "display_data"
    }
   ],
   "source": [
    "let cntms = image (fun (c, _) -> Fn (c, [])) consts\n",
    "let newtups = groundtuples cntms funcs 0 (List.length fvs)\n",
    "\n",
    "let fl' = (distrib (image (image (subst (fpf fvs (newtups |> List.head)))) dnf) [[]])\n",
    "\n",
    "fl'"
   ]
  },
  {
   "cell_type": "markdown",
   "metadata": {},
   "source": [
    "4. si testa se sono insoddisfacibili"
   ]
  },
  {
   "cell_type": "code",
   "execution_count": 11,
   "metadata": {
    "dotnet_interactive": {
     "language": "fsharp"
    },
    "polyglot_notebook": {
     "kernelName": "fsharp"
    }
   },
   "outputs": [
    {
     "data": {
      "text/html": [
       "<div class=\"dni-plaintext\"><pre>False</pre></div><style>\r\n",
       ".dni-code-hint {\r\n",
       "    font-style: italic;\r\n",
       "    overflow: hidden;\r\n",
       "    white-space: nowrap;\r\n",
       "}\r\n",
       ".dni-treeview {\r\n",
       "    white-space: nowrap;\r\n",
       "}\r\n",
       ".dni-treeview td {\r\n",
       "    vertical-align: top;\r\n",
       "    text-align: start;\r\n",
       "}\r\n",
       "details.dni-treeview {\r\n",
       "    padding-left: 1em;\r\n",
       "}\r\n",
       "table td {\r\n",
       "    text-align: start;\r\n",
       "}\r\n",
       "table tr { \r\n",
       "    vertical-align: top; \r\n",
       "    margin: 0em 0px;\r\n",
       "}\r\n",
       "table tr td pre \r\n",
       "{ \r\n",
       "    vertical-align: top !important; \r\n",
       "    margin: 0em 0px !important;\r\n",
       "} \r\n",
       "table th {\r\n",
       "    text-align: start;\r\n",
       "}\r\n",
       "</style>"
      ]
     },
     "metadata": {},
     "output_type": "display_data"
    }
   ],
   "source": [
    "fl'\n",
    "|> List.filter (non trivial)\n",
    "|> (<>) []\n",
    "|> not"
   ]
  },
  {
   "cell_type": "markdown",
   "metadata": {},
   "source": [
    "5. dal momento che non lo sono si generano le $m$-uple successive con funzioni un-arie:"
   ]
  },
  {
   "cell_type": "code",
   "execution_count": 12,
   "metadata": {
    "dotnet_interactive": {
     "language": "fsharp"
    },
    "polyglot_notebook": {
     "kernelName": "fsharp"
    }
   },
   "outputs": [
    {
     "data": {
      "text/plain": [
       "[[<<P(f_y(c))>>;<<~P(f_y(f_y(c)))>>]]"
      ]
     },
     "metadata": {},
     "output_type": "display_data"
    }
   ],
   "source": [
    "let newtups' = groundtuples cntms funcs 1 (List.length fvs)\n",
    "let fl'' = (distrib (image (image (subst (fpf fvs (newtups' |> List.head)))) dnf) [[]])\n",
    "fl'' "
   ]
  },
  {
   "cell_type": "markdown",
   "metadata": {},
   "source": [
    "Dal momento che le due $m$-uple generate contengono due istanze complementari (`<<~P(f_y(c))>>` e `<<P(f_y(c))>>`), la procedura termina."
   ]
  }
 ],
 "metadata": {
  "kernelspec": {
   "display_name": ".NET (C#)",
   "language": "C#",
   "name": ".net-csharp"
  },
  "language_info": {
   "name": "polyglot-notebook"
  },
  "polyglot_notebook": {
   "kernelInfo": {
    "defaultKernelName": "csharp",
    "items": [
     {
      "aliases": [],
      "name": "csharp"
     },
     {
      "aliases": [],
      "languageName": "fsharp",
      "name": "fsharp"
     }
    ]
   }
  }
 },
 "nbformat": 4,
 "nbformat_minor": 2
}
