{
 "cells": [
  {
   "cell_type": "markdown",
   "metadata": {},
   "source": [
    "# Rappresentazione in logica proposizionale di circuiti addizionatori di numeri a n-bit.\n",
    "\n",
    "            1 0 1 1 0 0 1 1\n",
    "        +   0 1 1 0 0 1 0 1\n",
    "        = 1 0 0 0 1 1 0 0 0"
   ]
  },
  {
   "cell_type": "markdown",
   "metadata": {},
   "source": [
    "## Mezzo addizionatore\n",
    "\n",
    "Un mezzo addizionatore (o 1-bit adder) calcola la somma e il riporto per due sole cifre. Vale quindi solo per la cifra più a destra che non prevede ancora riporto.\n",
    "\n",
    "Possiamo rappresentare la somma (s) e il riporto (c) per le possibili combinazioni di due cifre (x e y) con la seguente tabella:\n",
    "\n",
    "| x | y | c | s\n",
    "|---|---|---|---\n",
    "| 0 | 0 | 0 | 0\n",
    "| 0 | 1 | 0 | 1\n",
    "| 1 | 0 | 0 | 1\n",
    "| 1 | 1 | 1 | 0\n",
    "\n",
    "Si può vedere come la funzione `ha` rappresenti un half adder stampando la combinazione degli argomenti per cui il suo valore è una tautologia."
   ]
  },
  {
   "cell_type": "code",
   "execution_count": null,
   "metadata": {
    "dotnet_interactive": {
     "language": "fsharp"
    },
    "polyglot_notebook": {
     "kernelName": "fsharp"
    }
   },
   "outputs": [],
   "source": [
    "#load \"../../Initialization.fsx\"\n",
    "\n",
    "open Calcolemus.Lib\n",
    "open Calcolemus.Formulas\n",
    "open Calcolemus.Prop\n",
    "open Calcolemus.Propexamples"
   ]
  },
  {
   "cell_type": "code",
   "execution_count": 2,
   "metadata": {
    "dotnet_interactive": {
     "language": "fsharp"
    },
    "polyglot_notebook": {
     "kernelName": "fsharp"
    }
   },
   "outputs": [
    {
     "name": "stdout",
     "output_type": "stream",
     "text": [
      "-----------------\n",
      "| x | y | c | s |\n",
      "-----------------\n",
      "| 0 | 0 | 0 | 0 |\n",
      "| 0 | 1 | 0 | 1 |\n",
      "| 1 | 0 | 0 | 1 |\n",
      "| 1 | 1 | 1 | 0 |\n",
      "-----------------\n"
     ]
    }
   ],
   "source": [
    "let to01 fm = \n",
    "    match fm with\n",
    "    | False  -> 0\n",
    "    | True  -> 1\n",
    "    | _ -> failwith \"unexpected input\"\n",
    "\n",
    "printfn \"-----------------\"\n",
    "printfn \"| x | y | c | s |\"\n",
    "printfn \"-----------------\"\n",
    "for x in [False;True] do \n",
    "    for y in [False;True] do \n",
    "        for c in [False;True] do \n",
    "            for s in [False;True] do \n",
    "                if tautology(ha x y s c) then \n",
    "                    printfn \"| %i | %i | %i | %i |\" (x |> to01) (y |> to01) (c |> to01) (s |> to01)\n",
    "printfn \"-----------------\""
   ]
  },
  {
   "cell_type": "markdown",
   "metadata": {},
   "source": [
    "## Addizionatore completo\n",
    "\n",
    "Un addizionatore completo deve essere in grado di sommare tre cifre (x, y e z) perché una (z in questo caso) rappresenterà il possibile riporto dalla somma delle cifre precedenti.\n",
    "\n",
    "La tabella corrispondente sarà la seguente:\n",
    "\n",
    "| x | y | z | c | s\n",
    "|---|---|---|---|---\n",
    "| 0 | 0 | 0 | 0 | 0\n",
    "| 0 | 0 | 1 | 0 | 1\n",
    "| 0 | 1 | 0 | 0 | 1\n",
    "| 0 | 1 | 1 | 1 | 0\n",
    "| 1 | 0 | 0 | 0 | 1\n",
    "| 1 | 0 | 1 | 1 | 0\n",
    "| 1 | 1 | 0 | 1 | 0\n",
    "| 1 | 1 | 1 | 1 | 1\n",
    "\n",
    "e di nuovo possiamo vedere come la funzione `fa` generi una formula proposizionale che rappresenta un addizionatore completo, stampando le combinazioni di argomenti per cui la proposizione generata è una tautologia:"
   ]
  },
  {
   "cell_type": "code",
   "execution_count": 3,
   "metadata": {
    "dotnet_interactive": {
     "language": "fsharp"
    },
    "polyglot_notebook": {
     "kernelName": "fsharp"
    }
   },
   "outputs": [
    {
     "name": "stdout",
     "output_type": "stream",
     "text": [
      "---------------------\n",
      "| x | y | z | c | s |\n",
      "---------------------\n",
      "| 0 | 0 | 0 | 0 | 0 |\n",
      "| 0 | 0 | 1 | 0 | 1 |\n",
      "| 0 | 1 | 0 | 0 | 1 |\n",
      "| 0 | 1 | 1 | 1 | 0 |\n",
      "| 1 | 0 | 0 | 0 | 1 |\n",
      "| 1 | 0 | 1 | 1 | 0 |\n",
      "| 1 | 1 | 0 | 1 | 0 |\n",
      "| 1 | 1 | 1 | 1 | 1 |\n",
      "---------------------\n"
     ]
    }
   ],
   "source": [
    "printfn \"---------------------\"\n",
    "printfn \"| x | y | z | c | s |\"\n",
    "printfn \"---------------------\"\n",
    "for x in [False;True] do \n",
    "    for y in [False;True] do \n",
    "        for z in [False;True] do \n",
    "            for c in [False;True] do \n",
    "                for s in [False;True] do \n",
    "                    if tautology(fa x y z s c) then \n",
    "                        printfn \"| %i | %i | %i | %i | %i |\" (x |> to01) (y |> to01) (z |> to01) (c |> to01) (s |> to01)\n",
    "printfn \"---------------------\""
   ]
  },
  {
   "cell_type": "markdown",
   "metadata": {},
   "source": [
    "## Ripple carry \n",
    "\n",
    "La funzione `riplecarry` genera una formula proposizionale che rappresenta un circuito addizionatore di tipo ripple carry.\n",
    "\n",
    "Ognuna delle righe true della sua tavola di verità indica quali sono i valori corretti dei sui argomenti.\n",
    "\n",
    "Gli argomenti alla funzione, per esempio:\n",
    "\n",
    "| C_0   | C_1   | C_2   | OUT_0 | OUT_1 | X_0   | X_1   | Y_0   | Y_1   |\n",
    "|-------|-------|-------|-------|-------|-------|-------|-------|-------|\n",
    "| false | false | false | false | false | false | false | false | false |\n",
    "\n",
    "possono essere riletti nel modo seguente:\n",
    "\n",
    "Index | 2 | 1 | 0 |\n",
    "------|---|---|----\n",
    "C     | 0 | 0 | 0 |\n",
    "X     |   | 0 | 0 |\n",
    "Y     |   | 0 | 0 |\n",
    "OUT   |   | 0 | 0 |\n",
    "\n",
    "il senso si capisce ancora meglio su una riga come:\n",
    "\n",
    "| C_0   | C_1   | C_2   | OUT_0 | OUT_1 | X_0   | X_1   | Y_0   | Y_1   |\n",
    "|-------|-------|-------|-------|-------|-------|-------|-------|-------|\n",
    "| true  | true  | true  | true  | false | true  | true  | true  | false |\n",
    "\n",
    "\n",
    "equivalente a \n",
    "\n",
    "Index | 2 | 1 | 0 |\n",
    "------|---|---|----\n",
    "C     | 1 | 1 | 1 |\n",
    "X     |   | 1 | 1 |\n",
    "Y     |   | 0 | 1 |\n",
    "OUT   |   | 0 | 1 |\n",
    "\n",
    "la somma (OUT_0) di X_0 (=1) + Y_0 (=1) + il riporto dalla somma delle cifre precedenti C_0 (=1) è 1, il suo riporto C_1 è 1 (si noti infatti che in un sistema binario 1 + 1 + 1 = 11 quindi 1 è la somma e 1 il riporto), abbiamo poi la somma OUT_1 (=0) da X_1 (=1) + Y_1 (=0) e C_1 (=1), con corrispondente riporto C_2 = 1 (infatti 1 + 1 + 0 = 10).\n",
    "\n",
    "Se definiamo una funzione che stampi le sole righe vere della tavola di verità, eventualmente rimpiazzando anche true con 1 e false con 0 per maggior chiarezza, possiamo usare la funzione per restituire tutte le combinazioni di somma e riporto per ciascun valore possibile delle cifre x, y da sommare."
   ]
  },
  {
   "cell_type": "code",
   "execution_count": 4,
   "metadata": {
    "dotnet_interactive": {
     "language": "fsharp"
    },
    "polyglot_notebook": {
     "kernelName": "fsharp"
    }
   },
   "outputs": [
    {
     "name": "stdout",
     "output_type": "stream",
     "text": [
      "C_0   C_1   C_2   OUT_0 OUT_1 X_0   X_1   Y_0   Y_1   | formula\n",
      "---------------------------------------------------------------\n",
      "0     0     0     0     0     0     0     0     0     | 1     \n",
      "0     0     0     0     1     0     0     0     1     | 1     \n",
      "0     0     0     0     1     0     1     0     0     | 1     \n",
      "0     0     0     1     0     0     0     1     0     | 1     \n",
      "0     0     0     1     0     1     0     0     0     | 1     \n",
      "0     0     0     1     1     0     0     1     1     | 1     \n",
      "0     0     0     1     1     0     1     1     0     | 1     \n",
      "0     0     0     1     1     1     0     0     1     | 1     \n",
      "0     0     0     1     1     1     1     0     0     | 1     \n",
      "0     0     1     0     0     0     1     0     1     | 1     \n",
      "0     0     1     1     0     0     1     1     1     | 1     \n",
      "0     0     1     1     0     1     1     0     1     | 1     \n",
      "0     1     0     0     1     1     0     1     0     | 1     \n",
      "0     1     1     0     0     1     0     1     1     | 1     \n",
      "0     1     1     0     0     1     1     1     0     | 1     \n",
      "0     1     1     0     1     1     1     1     1     | 1     \n",
      "1     0     0     1     0     0     0     0     0     | 1     \n",
      "1     0     0     1     1     0     0     0     1     | 1     \n",
      "1     0     0     1     1     0     1     0     0     | 1     \n",
      "1     0     1     1     0     0     1     0     1     | 1     \n",
      "1     1     0     0     1     0     0     1     0     | 1     \n",
      "1     1     0     0     1     1     0     0     0     | 1     \n",
      "1     1     0     1     1     1     0     1     0     | 1     \n",
      "1     1     1     0     0     0     0     1     1     | 1     \n",
      "1     1     1     0     0     0     1     1     0     | 1     \n",
      "1     1     1     0     0     1     0     0     1     | 1     \n",
      "1     1     1     0     0     1     1     0     0     | 1     \n",
      "1     1     1     0     1     0     1     1     1     | 1     \n",
      "1     1     1     0     1     1     1     0     1     | 1     \n",
      "1     1     1     1     0     1     0     1     1     | 1     \n",
      "1     1     1     1     0     1     1     1     0     | 1     \n",
      "1     1     1     1     1     1     1     1     1     | 1     \n",
      "---------------------------------------------------------------\n",
      "\n"
     ]
    }
   ],
   "source": [
    "let filtered_truthtable value fm =\n",
    "    // [P \"p\"; P \"q\"; P \"r\"]\n",
    "    let ats = atoms fm\n",
    "    // 5 + 1 = length of false + length of space\n",
    "    let width = List.foldBack (max << String.length << pname) ats 5 + 1\n",
    "    let fixw s = s + String.replicate (width - String.length s) \" \"\n",
    "    let truthstring p = fixw (if p then \"1\" else \"0\")\n",
    "    let mk_row v =\n",
    "        let lis = List.map (fun x -> truthstring (v x)) ats\n",
    "        if (eval fm v) = true then \n",
    "            let ans = truthstring (eval fm v)\n",
    "            printf \"%s\" (List.foldBack (+) lis (\"| \" + ans))\n",
    "            printfn \"\"\n",
    "        true\n",
    "    let seperator = String.replicate (width * (List.length ats) + 9) \"-\"\n",
    "    printfn \"%s\" (List.foldBack (fun s t -> fixw(pname s) + t) ats \"| formula\")\n",
    "    printfn \"%s\" seperator\n",
    "    let _ = onallvaluations mk_row (fun x -> false) ats\n",
    "    printfn \"%s\" seperator\n",
    "    printfn \"\"\n",
    "\n",
    "let [x; y; out; c] = List.map mk_index [\"X\"; \"Y\"; \"OUT\"; \"C\"]\n",
    "            \n",
    "ripplecarry x y c out 2\n",
    "|> filtered_truthtable true"
   ]
  },
  {
   "cell_type": "markdown",
   "metadata": {},
   "source": [
    "i nostri due esempi di sopra corrispondono esattamente alla prima e alla penultima riga ddi questa tabella."
   ]
  }
 ],
 "metadata": {
  "kernelspec": {
   "display_name": ".NET (F#)",
   "language": "F#",
   "name": ".net-fsharp"
  },
  "language_info": {
   "name": "polyglot-notebook"
  },
  "polyglot_notebook": {
   "kernelInfo": {
    "defaultKernelName": "fsharp",
    "items": [
     {
      "aliases": [],
      "languageName": "fsharp",
      "name": "fsharp"
     }
    ]
   }
  }
 },
 "nbformat": 4,
 "nbformat_minor": 2
}
