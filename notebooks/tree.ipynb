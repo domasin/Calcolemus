{
 "cells": [
  {
   "cell_type": "code",
   "execution_count": 6,
   "metadata": {
    "dotnet_interactive": {
     "language": "html"
    },
    "polyglot_notebook": {
     "kernelName": "html"
    }
   },
   "outputs": [
    {
     "data": {
      "text/html": [
       "<div style=\"background-color: grey\">\n",
       "    <svg id=\"d3_target\"></svg>\n",
       "<div>"
      ]
     },
     "metadata": {},
     "output_type": "display_data"
    }
   ],
   "source": [
    "<div style=\"background-color: grey\">\n",
    "    <svg id=\"d3_target\"></svg>\n",
    "<div>"
   ]
  },
  {
   "cell_type": "code",
   "execution_count": 9,
   "metadata": {
    "dotnet_interactive": {
     "language": "javascript"
    },
    "polyglot_notebook": {
     "kernelName": "javascript"
    }
   },
   "outputs": [],
   "source": [
    "d3 = await import(\"https://cdn.jsdelivr.net/npm/d3@7/+esm\");\n",
    "\n",
    "let data = \n",
    "    {\n",
    "        \"name\": \"root\",\n",
    "        \"children\": [\n",
    "            {\"name\": \"child1\", \"value\": 1},\n",
    "            {\"name\": \"child2\", \"value\": 2}\n",
    "        ]\n",
    "    }\n",
    "\n",
    "// Specify the charts’ dimensions. The height is variable, depending on the layout.\n",
    "const width = 928;\n",
    "const marginTop = 10;\n",
    "const marginRight = 10;\n",
    "const marginBottom = 10;\n",
    "const marginLeft = 40;\n",
    "\n",
    "// Rows are separated by dx pixels, columns by dy pixels. These names can be counter-intuitive\n",
    "// (dx is a height, and dy a width). This because the tree must be viewed with the root at the\n",
    "// “bottom”, in the data domain. The width of a column is based on the tree’s height.\n",
    "const root = d3.hierarchy(data);\n",
    "const dx = 10;\n",
    "const dy = (width - marginRight - marginLeft) / (1 + root.height);\n",
    "\n",
    "// Define the tree layout and the shape for links.\n",
    "const tree = d3.tree().nodeSize([dx, dy]);\n",
    "const diagonal = d3.linkHorizontal().x(d => d.y).y(d => d.x);\n",
    "\n",
    "// Create the SVG container, a layer for the links and a layer for the nodes.\n",
    "const svg = d3.select(\"#d3_target\");\n",
    "\n",
    "svg\n",
    "  .attr(\"width\", width)\n",
    "  .attr(\"height\", 400)\n",
    "  .attr(\"viewBox\", [-marginLeft, -marginTop, width, dx])\n",
    "  .attr(\"style\", \"max-width: 100%; height: auto; font: 10px sans-serif; user-select: none;\");\n",
    "\n",
    "const gLink = svg.append(\"g\")\n",
    "    .attr(\"fill\", \"none\")\n",
    "    .attr(\"stroke\", \"#555\")\n",
    "    .attr(\"stroke-opacity\", 0.4)\n",
    "    .attr(\"stroke-width\", 1.5);\n",
    "\n",
    "const gNode = svg.append(\"g\")\n",
    "    .attr(\"cursor\", \"pointer\")\n",
    "    .attr(\"pointer-events\", \"all\");\n",
    "\n",
    "function update(event, source) {\n",
    "    const duration = event?.altKey ? 2500 : 250; // hold the alt key to slow down the transition\n",
    "    const nodes = root.descendants().reverse();\n",
    "    const links = root.links();\n",
    "\n",
    "    // Compute the new tree layout.\n",
    "    tree(root);\n",
    "\n",
    "    let left = root;\n",
    "    let right = root;\n",
    "    root.eachBefore(node => {\n",
    "    if (node.x < left.x) left = node;\n",
    "    if (node.x > right.x) right = node;\n",
    "    });\n",
    "\n",
    "    const height = right.x - left.x + marginTop + marginBottom;\n",
    "\n",
    "    const transition = svg.transition()\n",
    "        .duration(duration)\n",
    "        .attr(\"height\", height)\n",
    "        .attr(\"viewBox\", [-marginLeft, left.x - marginTop, width, height])\n",
    "        .tween(\"resize\", window.ResizeObserver ? null : () => () => svg.dispatch(\"toggle\"));\n",
    "\n",
    "    // Update the nodes…\n",
    "    const node = gNode.selectAll(\"g\")\n",
    "    .data(nodes, d => d.id);\n",
    "\n",
    "    // Enter any new nodes at the parent's previous position.\n",
    "    const nodeEnter = node.enter().append(\"g\")\n",
    "        .attr(\"transform\", d => `translate(${source.y0},${source.x0})`)\n",
    "        .attr(\"fill-opacity\", 0)\n",
    "        .attr(\"stroke-opacity\", 0)\n",
    "        .on(\"click\", (event, d) => {\n",
    "        d.children = d.children ? null : d._children;\n",
    "        update(event, d);\n",
    "        });\n",
    "\n",
    "    nodeEnter.append(\"circle\")\n",
    "        .attr(\"r\", 2.5)\n",
    "        .attr(\"fill\", d => d._children ? \"#555\" : \"#999\")\n",
    "        .attr(\"stroke-width\", 10);\n",
    "\n",
    "    nodeEnter.append(\"text\")\n",
    "        .attr(\"dy\", \"0.31em\")\n",
    "        .attr(\"x\", d => d._children ? -6 : 6)\n",
    "        .attr(\"text-anchor\", d => d._children ? \"end\" : \"start\")\n",
    "        .text(d => d.data.name)\n",
    "    .clone(true).lower()\n",
    "        .attr(\"stroke-linejoin\", \"round\")\n",
    "        .attr(\"stroke-width\", 3)\n",
    "        .attr(\"stroke\", \"white\");\n",
    "\n",
    "    // Transition nodes to their new position.\n",
    "    const nodeUpdate = node.merge(nodeEnter).transition(transition)\n",
    "        .attr(\"transform\", d => `translate(${d.y},${d.x})`)\n",
    "        .attr(\"fill-opacity\", 1)\n",
    "        .attr(\"stroke-opacity\", 1);\n",
    "\n",
    "    // Transition exiting nodes to the parent's new position.\n",
    "    const nodeExit = node.exit().transition(transition).remove()\n",
    "        .attr(\"transform\", d => `translate(${source.y},${source.x})`)\n",
    "        .attr(\"fill-opacity\", 0)\n",
    "        .attr(\"stroke-opacity\", 0);\n",
    "\n",
    "    // Update the links…\n",
    "    const link = gLink.selectAll(\"path\")\n",
    "    .data(links, d => d.target.id);\n",
    "\n",
    "    // Enter any new links at the parent's previous position.\n",
    "    const linkEnter = link.enter().append(\"path\")\n",
    "        .attr(\"d\", d => {\n",
    "        const o = {x: source.x0, y: source.y0};\n",
    "        return diagonal({source: o, target: o});\n",
    "        });\n",
    "\n",
    "    // Transition links to their new position.\n",
    "    link.merge(linkEnter).transition(transition)\n",
    "        .attr(\"d\", diagonal);\n",
    "\n",
    "    // Transition exiting nodes to the parent's new position.\n",
    "    link.exit().transition(transition).remove()\n",
    "        .attr(\"d\", d => {\n",
    "        const o = {x: source.x, y: source.y};\n",
    "        return diagonal({source: o, target: o});\n",
    "        });\n",
    "\n",
    "    // Stash the old positions for transition.\n",
    "    root.eachBefore(d => {\n",
    "    d.x0 = d.x;\n",
    "    d.y0 = d.y;\n",
    "    });\n",
    "}\n",
    "\n",
    "// Do the first update to the initial configuration of the tree — where a number of nodes\n",
    "// are open (arbitrarily selected as the root, plus nodes with 7 letters).\n",
    "root.x0 = dy / 2;\n",
    "root.y0 = 0;\n",
    "root.descendants().forEach((d, i) => {\n",
    "    d.id = i;\n",
    "    d._children = d.children;\n",
    "    if (d.depth && d.data.name.length !== 7) d.children = null;\n",
    "});\n",
    "\n",
    "update(null, root);\n",
    "\n",
    "svg.node();\n"
   ]
  },
  {
   "cell_type": "code",
   "execution_count": null,
   "metadata": {
    "dotnet_interactive": {
     "language": "html"
    },
    "polyglot_notebook": {
     "kernelName": "html"
    }
   },
   "outputs": [],
   "source": [
    "\n",
    "d3 = await import(\"https://cdn.jsdelivr.net/npm/d3@7/+esm\");\n",
    "\n",
    "const width = 400;\n",
    "const height = 400;\n",
    "const svg = d3.select(\"#d3_target\");\n",
    "\n",
    "svg\n",
    "  .attr(\"width\", width)\n",
    "  .attr(\"height\", 400)\n",
    "  .attr(\"viewBox\", [0, 0, width, height])\n",
    "  .attr(\"style\", \"max-width: 100%; height: auto; height: intrinsic;\");\n",
    "\n",
    "svg\n",
    "  .append(\"circle\")\n",
    "  .attr(\"fill\", \"red\")\n",
    "  .attr(\"cx\", width/2)\n",
    "  .attr(\"cy\", height/2)\n",
    "  .attr(\"r\", \"100\");"
   ]
  }
 ],
 "metadata": {
  "kernelspec": {
   "display_name": ".NET (C#)",
   "language": "C#",
   "name": ".net-csharp"
  },
  "language_info": {
   "name": "polyglot-notebook"
  },
  "polyglot_notebook": {
   "kernelInfo": {
    "defaultKernelName": "javascript",
    "items": [
     {
      "aliases": [],
      "languageName": "javascript",
      "name": "javascript"
     }
    ]
   }
  }
 },
 "nbformat": 4,
 "nbformat_minor": 2
}
